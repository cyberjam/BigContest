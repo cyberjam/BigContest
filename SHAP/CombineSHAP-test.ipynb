{
 "cells": [
  {
   "cell_type": "code",
   "execution_count": 1,
   "metadata": {},
   "outputs": [],
   "source": [
    "import numpy as np\n",
    "import pandas as pd\n",
    "from sklearn.model_selection import train_test_split #scikit-\n",
    "from sklearn.ensemble import RandomForestClassifier"
   ]
  },
  {
   "cell_type": "markdown",
   "metadata": {},
   "source": [
    "------------------------------------------------------------------------------"
   ]
  },
  {
   "cell_type": "code",
   "execution_count": null,
   "metadata": {},
   "outputs": [],
   "source": []
  },
  {
   "cell_type": "markdown",
   "metadata": {},
   "source": [
    "## combat"
   ]
  },
  {
   "cell_type": "code",
   "execution_count": 2,
   "metadata": {},
   "outputs": [],
   "source": [
    "cbt_raw = pd.read_csv('../BigContest/test1_combat.csv')"
   ]
  },
  {
   "cell_type": "code",
   "execution_count": 3,
   "metadata": {},
   "outputs": [],
   "source": [
    "cbt = cbt_raw"
   ]
  },
  {
   "cell_type": "code",
   "execution_count": 4,
   "metadata": {},
   "outputs": [],
   "source": [
    "cbt = cbt.drop(columns = ['day','server'])"
   ]
  },
  {
   "cell_type": "code",
   "execution_count": 5,
   "metadata": {},
   "outputs": [
    {
     "data": {
      "text/html": [
       "<div>\n",
       "<style scoped>\n",
       "    .dataframe tbody tr th:only-of-type {\n",
       "        vertical-align: middle;\n",
       "    }\n",
       "\n",
       "    .dataframe tbody tr th {\n",
       "        vertical-align: top;\n",
       "    }\n",
       "\n",
       "    .dataframe thead th {\n",
       "        text-align: right;\n",
       "    }\n",
       "</style>\n",
       "<table border=\"1\" class=\"dataframe\">\n",
       "  <thead>\n",
       "    <tr style=\"text-align: right;\">\n",
       "      <th></th>\n",
       "      <th>acc_id</th>\n",
       "      <th>char_id</th>\n",
       "      <th>class</th>\n",
       "      <th>level</th>\n",
       "      <th>pledge_cnt</th>\n",
       "      <th>random_attacker_cnt</th>\n",
       "      <th>random_defender_cnt</th>\n",
       "      <th>temp_cnt</th>\n",
       "      <th>same_pledge_cnt</th>\n",
       "      <th>etc_cnt</th>\n",
       "      <th>num_opponent</th>\n",
       "    </tr>\n",
       "  </thead>\n",
       "  <tbody>\n",
       "    <tr>\n",
       "      <th>0</th>\n",
       "      <td>58743</td>\n",
       "      <td>133491</td>\n",
       "      <td>3</td>\n",
       "      <td>16</td>\n",
       "      <td>0.000000</td>\n",
       "      <td>0.000000</td>\n",
       "      <td>0.0</td>\n",
       "      <td>0.0</td>\n",
       "      <td>0.0</td>\n",
       "      <td>0.0</td>\n",
       "      <td>0.000000</td>\n",
       "    </tr>\n",
       "    <tr>\n",
       "      <th>1</th>\n",
       "      <td>58743</td>\n",
       "      <td>354243</td>\n",
       "      <td>1</td>\n",
       "      <td>5</td>\n",
       "      <td>0.000000</td>\n",
       "      <td>0.000000</td>\n",
       "      <td>0.0</td>\n",
       "      <td>0.0</td>\n",
       "      <td>0.0</td>\n",
       "      <td>0.0</td>\n",
       "      <td>0.000000</td>\n",
       "    </tr>\n",
       "    <tr>\n",
       "      <th>2</th>\n",
       "      <td>110631</td>\n",
       "      <td>181339</td>\n",
       "      <td>2</td>\n",
       "      <td>17</td>\n",
       "      <td>0.320921</td>\n",
       "      <td>6.548676</td>\n",
       "      <td>0.0</td>\n",
       "      <td>0.0</td>\n",
       "      <td>0.0</td>\n",
       "      <td>0.0</td>\n",
       "      <td>2.060704</td>\n",
       "    </tr>\n",
       "    <tr>\n",
       "      <th>3</th>\n",
       "      <td>87697</td>\n",
       "      <td>253151</td>\n",
       "      <td>1</td>\n",
       "      <td>3</td>\n",
       "      <td>0.000000</td>\n",
       "      <td>0.000000</td>\n",
       "      <td>0.0</td>\n",
       "      <td>0.0</td>\n",
       "      <td>0.0</td>\n",
       "      <td>0.0</td>\n",
       "      <td>0.000000</td>\n",
       "    </tr>\n",
       "    <tr>\n",
       "      <th>4</th>\n",
       "      <td>87697</td>\n",
       "      <td>295097</td>\n",
       "      <td>1</td>\n",
       "      <td>1</td>\n",
       "      <td>0.000000</td>\n",
       "      <td>0.000000</td>\n",
       "      <td>0.0</td>\n",
       "      <td>0.0</td>\n",
       "      <td>0.0</td>\n",
       "      <td>0.0</td>\n",
       "      <td>0.000000</td>\n",
       "    </tr>\n",
       "  </tbody>\n",
       "</table>\n",
       "</div>"
      ],
      "text/plain": [
       "   acc_id  char_id  class  level  pledge_cnt  random_attacker_cnt  \\\n",
       "0   58743   133491      3     16    0.000000             0.000000   \n",
       "1   58743   354243      1      5    0.000000             0.000000   \n",
       "2  110631   181339      2     17    0.320921             6.548676   \n",
       "3   87697   253151      1      3    0.000000             0.000000   \n",
       "4   87697   295097      1      1    0.000000             0.000000   \n",
       "\n",
       "   random_defender_cnt  temp_cnt  same_pledge_cnt  etc_cnt  num_opponent  \n",
       "0                  0.0       0.0              0.0      0.0      0.000000  \n",
       "1                  0.0       0.0              0.0      0.0      0.000000  \n",
       "2                  0.0       0.0              0.0      0.0      2.060704  \n",
       "3                  0.0       0.0              0.0      0.0      0.000000  \n",
       "4                  0.0       0.0              0.0      0.0      0.000000  "
      ]
     },
     "execution_count": 5,
     "metadata": {},
     "output_type": "execute_result"
    }
   ],
   "source": [
    "cbt.head()"
   ]
  },
  {
   "cell_type": "code",
   "execution_count": 6,
   "metadata": {},
   "outputs": [],
   "source": [
    "cbt= cbt.groupby('acc_id').sum()"
   ]
  },
  {
   "cell_type": "code",
   "execution_count": 7,
   "metadata": {},
   "outputs": [],
   "source": [
    "# cbt_2.sort_values('acc_id')"
   ]
  },
  {
   "cell_type": "code",
   "execution_count": 8,
   "metadata": {},
   "outputs": [
    {
     "data": {
      "text/html": [
       "<div>\n",
       "<style scoped>\n",
       "    .dataframe tbody tr th:only-of-type {\n",
       "        vertical-align: middle;\n",
       "    }\n",
       "\n",
       "    .dataframe tbody tr th {\n",
       "        vertical-align: top;\n",
       "    }\n",
       "\n",
       "    .dataframe thead th {\n",
       "        text-align: right;\n",
       "    }\n",
       "</style>\n",
       "<table border=\"1\" class=\"dataframe\">\n",
       "  <thead>\n",
       "    <tr style=\"text-align: right;\">\n",
       "      <th></th>\n",
       "      <th>char_id</th>\n",
       "      <th>class</th>\n",
       "      <th>level</th>\n",
       "      <th>pledge_cnt</th>\n",
       "      <th>random_attacker_cnt</th>\n",
       "      <th>random_defender_cnt</th>\n",
       "      <th>temp_cnt</th>\n",
       "      <th>same_pledge_cnt</th>\n",
       "      <th>etc_cnt</th>\n",
       "      <th>num_opponent</th>\n",
       "    </tr>\n",
       "    <tr>\n",
       "      <th>acc_id</th>\n",
       "      <th></th>\n",
       "      <th></th>\n",
       "      <th></th>\n",
       "      <th></th>\n",
       "      <th></th>\n",
       "      <th></th>\n",
       "      <th></th>\n",
       "      <th></th>\n",
       "      <th></th>\n",
       "      <th></th>\n",
       "    </tr>\n",
       "  </thead>\n",
       "  <tbody>\n",
       "    <tr>\n",
       "      <th>7</th>\n",
       "      <td>1113796</td>\n",
       "      <td>27</td>\n",
       "      <td>112</td>\n",
       "      <td>0.0</td>\n",
       "      <td>0.000000</td>\n",
       "      <td>0.000000</td>\n",
       "      <td>1.918911</td>\n",
       "      <td>0.0</td>\n",
       "      <td>0.000000</td>\n",
       "      <td>0.294386</td>\n",
       "    </tr>\n",
       "    <tr>\n",
       "      <th>15</th>\n",
       "      <td>16343335</td>\n",
       "      <td>273</td>\n",
       "      <td>1121</td>\n",
       "      <td>0.0</td>\n",
       "      <td>0.000000</td>\n",
       "      <td>39.041128</td>\n",
       "      <td>0.000000</td>\n",
       "      <td>0.0</td>\n",
       "      <td>2.027007</td>\n",
       "      <td>2.256961</td>\n",
       "    </tr>\n",
       "    <tr>\n",
       "      <th>16</th>\n",
       "      <td>2403404</td>\n",
       "      <td>3</td>\n",
       "      <td>62</td>\n",
       "      <td>0.0</td>\n",
       "      <td>0.000000</td>\n",
       "      <td>0.000000</td>\n",
       "      <td>0.000000</td>\n",
       "      <td>0.0</td>\n",
       "      <td>0.000000</td>\n",
       "      <td>0.000000</td>\n",
       "    </tr>\n",
       "    <tr>\n",
       "      <th>18</th>\n",
       "      <td>2019394</td>\n",
       "      <td>13</td>\n",
       "      <td>0</td>\n",
       "      <td>0.0</td>\n",
       "      <td>0.000000</td>\n",
       "      <td>0.000000</td>\n",
       "      <td>0.000000</td>\n",
       "      <td>0.0</td>\n",
       "      <td>0.000000</td>\n",
       "      <td>0.000000</td>\n",
       "    </tr>\n",
       "    <tr>\n",
       "      <th>19</th>\n",
       "      <td>3352520</td>\n",
       "      <td>111</td>\n",
       "      <td>663</td>\n",
       "      <td>0.0</td>\n",
       "      <td>3.131975</td>\n",
       "      <td>9.464516</td>\n",
       "      <td>1.918911</td>\n",
       "      <td>0.0</td>\n",
       "      <td>2.815288</td>\n",
       "      <td>4.219536</td>\n",
       "    </tr>\n",
       "  </tbody>\n",
       "</table>\n",
       "</div>"
      ],
      "text/plain": [
       "         char_id  class  level  pledge_cnt  random_attacker_cnt  \\\n",
       "acc_id                                                            \n",
       "7        1113796     27    112         0.0             0.000000   \n",
       "15      16343335    273   1121         0.0             0.000000   \n",
       "16       2403404      3     62         0.0             0.000000   \n",
       "18       2019394     13      0         0.0             0.000000   \n",
       "19       3352520    111    663         0.0             3.131975   \n",
       "\n",
       "        random_defender_cnt  temp_cnt  same_pledge_cnt   etc_cnt  num_opponent  \n",
       "acc_id                                                                          \n",
       "7                  0.000000  1.918911              0.0  0.000000      0.294386  \n",
       "15                39.041128  0.000000              0.0  2.027007      2.256961  \n",
       "16                 0.000000  0.000000              0.0  0.000000      0.000000  \n",
       "18                 0.000000  0.000000              0.0  0.000000      0.000000  \n",
       "19                 9.464516  1.918911              0.0  2.815288      4.219536  "
      ]
     },
     "execution_count": 8,
     "metadata": {},
     "output_type": "execute_result"
    }
   ],
   "source": [
    "cbt.head()"
   ]
  },
  {
   "cell_type": "code",
   "execution_count": 9,
   "metadata": {},
   "outputs": [],
   "source": [
    "cbt = cbt.drop(columns='char_id')"
   ]
  },
  {
   "cell_type": "code",
   "execution_count": 10,
   "metadata": {},
   "outputs": [
    {
     "data": {
      "text/plain": [
       "(20000, 9)"
      ]
     },
     "execution_count": 10,
     "metadata": {},
     "output_type": "execute_result"
    }
   ],
   "source": [
    "cbt.shape"
   ]
  },
  {
   "cell_type": "code",
   "execution_count": 11,
   "metadata": {},
   "outputs": [],
   "source": [
    "# mrg = label.merge(cbt,on='acc_id')"
   ]
  },
  {
   "cell_type": "markdown",
   "metadata": {},
   "source": [
    "----------------------------------------------------------------------------------"
   ]
  },
  {
   "cell_type": "markdown",
   "metadata": {},
   "source": [
    "## Activity\n"
   ]
  },
  {
   "cell_type": "code",
   "execution_count": 12,
   "metadata": {},
   "outputs": [],
   "source": [
    "act_raw = pd.read_csv('../BigContest/test1_activity.csv')\n",
    "act = act_raw"
   ]
  },
  {
   "cell_type": "code",
   "execution_count": 13,
   "metadata": {},
   "outputs": [],
   "source": [
    "act = act.drop(columns = ['day','server'])"
   ]
  },
  {
   "cell_type": "code",
   "execution_count": 14,
   "metadata": {},
   "outputs": [],
   "source": [
    "act = act.groupby('acc_id').sum()"
   ]
  },
  {
   "cell_type": "code",
   "execution_count": 15,
   "metadata": {},
   "outputs": [],
   "source": [
    "act = act.drop(columns='char_id')"
   ]
  },
  {
   "cell_type": "code",
   "execution_count": 16,
   "metadata": {},
   "outputs": [],
   "source": [
    "mrg = cbt.merge(act,on='acc_id')"
   ]
  },
  {
   "cell_type": "code",
   "execution_count": 17,
   "metadata": {},
   "outputs": [
    {
     "data": {
      "text/plain": [
       "(20000, 22)"
      ]
     },
     "execution_count": 17,
     "metadata": {},
     "output_type": "execute_result"
    }
   ],
   "source": [
    "mrg.shape"
   ]
  },
  {
   "cell_type": "markdown",
   "metadata": {},
   "source": [
    "-------------------------------------------------------------------------------------"
   ]
  },
  {
   "cell_type": "markdown",
   "metadata": {},
   "source": [
    "## payment"
   ]
  },
  {
   "cell_type": "code",
   "execution_count": 18,
   "metadata": {},
   "outputs": [],
   "source": [
    "pmt_raw = pd.read_csv('../BigContest/test1_payment.csv')\n",
    "pmt = pmt_raw"
   ]
  },
  {
   "cell_type": "code",
   "execution_count": 19,
   "metadata": {},
   "outputs": [],
   "source": [
    "pmt = pmt.drop(columns = ['day'])"
   ]
  },
  {
   "cell_type": "code",
   "execution_count": 20,
   "metadata": {},
   "outputs": [],
   "source": [
    "pmt = pmt.groupby('acc_id').sum()"
   ]
  },
  {
   "cell_type": "code",
   "execution_count": 21,
   "metadata": {},
   "outputs": [],
   "source": [
    "pmt = pmt.rename(columns={\"amount_spent\":\"amount_spent_pmt\"})"
   ]
  },
  {
   "cell_type": "code",
   "execution_count": 22,
   "metadata": {},
   "outputs": [],
   "source": [
    "mrg = mrg.merge(pmt,how='left',on='acc_id')"
   ]
  },
  {
   "cell_type": "code",
   "execution_count": 23,
   "metadata": {},
   "outputs": [
    {
     "data": {
      "text/plain": [
       "(20000, 23)"
      ]
     },
     "execution_count": 23,
     "metadata": {},
     "output_type": "execute_result"
    }
   ],
   "source": [
    "mrg.shape"
   ]
  },
  {
   "cell_type": "code",
   "execution_count": 24,
   "metadata": {},
   "outputs": [
    {
     "data": {
      "text/plain": [
       "class                      0\n",
       "level                      0\n",
       "pledge_cnt                 0\n",
       "random_attacker_cnt        0\n",
       "random_defender_cnt        0\n",
       "temp_cnt                   0\n",
       "same_pledge_cnt            0\n",
       "etc_cnt                    0\n",
       "num_opponent               0\n",
       "playtime                   0\n",
       "npc_kill                   0\n",
       "solo_exp                   0\n",
       "party_exp                  0\n",
       "quest_exp                  0\n",
       "boss_monster               0\n",
       "death                      0\n",
       "revive                     0\n",
       "exp_recovery               0\n",
       "fishing                    0\n",
       "private_shop               0\n",
       "game_money_change          0\n",
       "enchant_count              0\n",
       "amount_spent_pmt       10546\n",
       "dtype: int64"
      ]
     },
     "execution_count": 24,
     "metadata": {},
     "output_type": "execute_result"
    }
   ],
   "source": [
    "mrg.isnull().sum()"
   ]
  },
  {
   "cell_type": "markdown",
   "metadata": {},
   "source": [
    "----------------------------------------------------------------------------------"
   ]
  },
  {
   "cell_type": "markdown",
   "metadata": {},
   "source": [
    "## pledge"
   ]
  },
  {
   "cell_type": "code",
   "execution_count": 25,
   "metadata": {},
   "outputs": [],
   "source": [
    "plg_raw = pd.read_csv('../BigContest/test1_pledge.csv')\n",
    "plg = plg_raw"
   ]
  },
  {
   "cell_type": "code",
   "execution_count": 26,
   "metadata": {},
   "outputs": [],
   "source": [
    "plg = plg.drop(columns = ['day','server'])"
   ]
  },
  {
   "cell_type": "code",
   "execution_count": 27,
   "metadata": {},
   "outputs": [],
   "source": [
    "plg = plg.groupby('acc_id').sum()"
   ]
  },
  {
   "cell_type": "code",
   "execution_count": 28,
   "metadata": {},
   "outputs": [],
   "source": [
    "plg = plg.drop(columns=['char_id','pledge_id'])"
   ]
  },
  {
   "cell_type": "code",
   "execution_count": 29,
   "metadata": {
    "scrolled": true
   },
   "outputs": [],
   "source": [
    "plg = plg.rename(columns={\"random_attacker_cnt\": \"random_attacker_cnt_plg\", \"random_defender_cnt\": \"random_defender_cnt_plg\",\"temp_cnt\":\"temp_cnt_plg\",\"same_pledge_cnt\":\"same_pledge_cnt_plg\",\"etc_cnt\":\"etc_cnt_plg\"})"
   ]
  },
  {
   "cell_type": "code",
   "execution_count": 30,
   "metadata": {
    "scrolled": true
   },
   "outputs": [],
   "source": [
    "mrg = mrg.merge(plg,how='left',on='acc_id')\n"
   ]
  },
  {
   "cell_type": "code",
   "execution_count": 31,
   "metadata": {},
   "outputs": [
    {
     "data": {
      "text/plain": [
       "(20000, 33)"
      ]
     },
     "execution_count": 31,
     "metadata": {},
     "output_type": "execute_result"
    }
   ],
   "source": [
    "mrg.shape"
   ]
  },
  {
   "cell_type": "code",
   "execution_count": 32,
   "metadata": {},
   "outputs": [
    {
     "data": {
      "text/plain": [
       "class                          0\n",
       "level                          0\n",
       "pledge_cnt                     0\n",
       "random_attacker_cnt            0\n",
       "random_defender_cnt            0\n",
       "temp_cnt                       0\n",
       "same_pledge_cnt                0\n",
       "etc_cnt                        0\n",
       "num_opponent                   0\n",
       "playtime                       0\n",
       "npc_kill                       0\n",
       "solo_exp                       0\n",
       "party_exp                      0\n",
       "quest_exp                      0\n",
       "boss_monster                   0\n",
       "death                          0\n",
       "revive                         0\n",
       "exp_recovery                   0\n",
       "fishing                        0\n",
       "private_shop                   0\n",
       "game_money_change              0\n",
       "enchant_count                  0\n",
       "amount_spent_pmt           10546\n",
       "play_char_cnt               3694\n",
       "combat_char_cnt             3694\n",
       "pledge_combat_cnt           3694\n",
       "random_attacker_cnt_plg     3694\n",
       "random_defender_cnt_plg     3694\n",
       "same_pledge_cnt_plg         3694\n",
       "temp_cnt_plg                3694\n",
       "etc_cnt_plg                 3694\n",
       "combat_play_time            3694\n",
       "non_combat_play_time        3694\n",
       "dtype: int64"
      ]
     },
     "execution_count": 32,
     "metadata": {},
     "output_type": "execute_result"
    }
   ],
   "source": [
    "mrg.isnull().sum()"
   ]
  },
  {
   "cell_type": "markdown",
   "metadata": {},
   "source": [
    "-----------------------------------------------------------------------------------"
   ]
  },
  {
   "cell_type": "code",
   "execution_count": 33,
   "metadata": {
    "scrolled": true
   },
   "outputs": [],
   "source": [
    "mrg= mrg.fillna(0)"
   ]
  },
  {
   "cell_type": "code",
   "execution_count": 34,
   "metadata": {},
   "outputs": [
    {
     "data": {
      "text/plain": [
       "class                      0\n",
       "level                      0\n",
       "pledge_cnt                 0\n",
       "random_attacker_cnt        0\n",
       "random_defender_cnt        0\n",
       "temp_cnt                   0\n",
       "same_pledge_cnt            0\n",
       "etc_cnt                    0\n",
       "num_opponent               0\n",
       "playtime                   0\n",
       "npc_kill                   0\n",
       "solo_exp                   0\n",
       "party_exp                  0\n",
       "quest_exp                  0\n",
       "boss_monster               0\n",
       "death                      0\n",
       "revive                     0\n",
       "exp_recovery               0\n",
       "fishing                    0\n",
       "private_shop               0\n",
       "game_money_change          0\n",
       "enchant_count              0\n",
       "amount_spent_pmt           0\n",
       "play_char_cnt              0\n",
       "combat_char_cnt            0\n",
       "pledge_combat_cnt          0\n",
       "random_attacker_cnt_plg    0\n",
       "random_defender_cnt_plg    0\n",
       "same_pledge_cnt_plg        0\n",
       "temp_cnt_plg               0\n",
       "etc_cnt_plg                0\n",
       "combat_play_time           0\n",
       "non_combat_play_time       0\n",
       "dtype: int64"
      ]
     },
     "execution_count": 34,
     "metadata": {},
     "output_type": "execute_result"
    }
   ],
   "source": [
    "mrg.isnull().sum()"
   ]
  },
  {
   "cell_type": "code",
   "execution_count": 35,
   "metadata": {},
   "outputs": [
    {
     "data": {
      "text/plain": [
       "(20000, 33)"
      ]
     },
     "execution_count": 35,
     "metadata": {},
     "output_type": "execute_result"
    }
   ],
   "source": [
    "mrg.shape"
   ]
  },
  {
   "cell_type": "code",
   "execution_count": 36,
   "metadata": {},
   "outputs": [],
   "source": [
    "X=mrg"
   ]
  },
  {
   "cell_type": "code",
   "execution_count": 37,
   "metadata": {},
   "outputs": [
    {
     "data": {
      "text/html": [
       "<div>\n",
       "<style scoped>\n",
       "    .dataframe tbody tr th:only-of-type {\n",
       "        vertical-align: middle;\n",
       "    }\n",
       "\n",
       "    .dataframe tbody tr th {\n",
       "        vertical-align: top;\n",
       "    }\n",
       "\n",
       "    .dataframe thead th {\n",
       "        text-align: right;\n",
       "    }\n",
       "</style>\n",
       "<table border=\"1\" class=\"dataframe\">\n",
       "  <thead>\n",
       "    <tr style=\"text-align: right;\">\n",
       "      <th></th>\n",
       "      <th>class</th>\n",
       "      <th>level</th>\n",
       "      <th>pledge_cnt</th>\n",
       "      <th>random_attacker_cnt</th>\n",
       "      <th>random_defender_cnt</th>\n",
       "      <th>temp_cnt</th>\n",
       "      <th>same_pledge_cnt</th>\n",
       "      <th>etc_cnt</th>\n",
       "      <th>num_opponent</th>\n",
       "      <th>playtime</th>\n",
       "      <th>...</th>\n",
       "      <th>play_char_cnt</th>\n",
       "      <th>combat_char_cnt</th>\n",
       "      <th>pledge_combat_cnt</th>\n",
       "      <th>random_attacker_cnt_plg</th>\n",
       "      <th>random_defender_cnt_plg</th>\n",
       "      <th>same_pledge_cnt_plg</th>\n",
       "      <th>temp_cnt_plg</th>\n",
       "      <th>etc_cnt_plg</th>\n",
       "      <th>combat_play_time</th>\n",
       "      <th>non_combat_play_time</th>\n",
       "    </tr>\n",
       "    <tr>\n",
       "      <th>acc_id</th>\n",
       "      <th></th>\n",
       "      <th></th>\n",
       "      <th></th>\n",
       "      <th></th>\n",
       "      <th></th>\n",
       "      <th></th>\n",
       "      <th></th>\n",
       "      <th></th>\n",
       "      <th></th>\n",
       "      <th></th>\n",
       "      <th></th>\n",
       "      <th></th>\n",
       "      <th></th>\n",
       "      <th></th>\n",
       "      <th></th>\n",
       "      <th></th>\n",
       "      <th></th>\n",
       "      <th></th>\n",
       "      <th></th>\n",
       "      <th></th>\n",
       "      <th></th>\n",
       "    </tr>\n",
       "  </thead>\n",
       "  <tbody>\n",
       "    <tr>\n",
       "      <th>7</th>\n",
       "      <td>27</td>\n",
       "      <td>112</td>\n",
       "      <td>0.0</td>\n",
       "      <td>0.000000</td>\n",
       "      <td>0.000000</td>\n",
       "      <td>1.918911</td>\n",
       "      <td>0.0</td>\n",
       "      <td>0.000000</td>\n",
       "      <td>0.294386</td>\n",
       "      <td>1.268015</td>\n",
       "      <td>...</td>\n",
       "      <td>19.560411</td>\n",
       "      <td>7.614846</td>\n",
       "      <td>0.506312</td>\n",
       "      <td>19.527071</td>\n",
       "      <td>4.721068</td>\n",
       "      <td>0.000000</td>\n",
       "      <td>12.558147</td>\n",
       "      <td>4.098316</td>\n",
       "      <td>12.579598</td>\n",
       "      <td>0.000000</td>\n",
       "    </tr>\n",
       "    <tr>\n",
       "      <th>15</th>\n",
       "      <td>273</td>\n",
       "      <td>1121</td>\n",
       "      <td>0.0</td>\n",
       "      <td>0.000000</td>\n",
       "      <td>39.041128</td>\n",
       "      <td>0.000000</td>\n",
       "      <td>0.0</td>\n",
       "      <td>2.027007</td>\n",
       "      <td>2.256961</td>\n",
       "      <td>86.784346</td>\n",
       "      <td>...</td>\n",
       "      <td>99.317807</td>\n",
       "      <td>15.410139</td>\n",
       "      <td>0.000000</td>\n",
       "      <td>0.000000</td>\n",
       "      <td>48.355185</td>\n",
       "      <td>0.000000</td>\n",
       "      <td>4.054205</td>\n",
       "      <td>1.797879</td>\n",
       "      <td>107.054983</td>\n",
       "      <td>16.478587</td>\n",
       "    </tr>\n",
       "    <tr>\n",
       "      <th>16</th>\n",
       "      <td>3</td>\n",
       "      <td>62</td>\n",
       "      <td>0.0</td>\n",
       "      <td>0.000000</td>\n",
       "      <td>0.000000</td>\n",
       "      <td>0.000000</td>\n",
       "      <td>0.0</td>\n",
       "      <td>0.000000</td>\n",
       "      <td>0.000000</td>\n",
       "      <td>0.082954</td>\n",
       "      <td>...</td>\n",
       "      <td>1.190948</td>\n",
       "      <td>0.036089</td>\n",
       "      <td>0.000000</td>\n",
       "      <td>0.000000</td>\n",
       "      <td>0.000000</td>\n",
       "      <td>0.000000</td>\n",
       "      <td>0.000000</td>\n",
       "      <td>0.007078</td>\n",
       "      <td>0.074364</td>\n",
       "      <td>0.056062</td>\n",
       "    </tr>\n",
       "    <tr>\n",
       "      <th>18</th>\n",
       "      <td>13</td>\n",
       "      <td>0</td>\n",
       "      <td>0.0</td>\n",
       "      <td>0.000000</td>\n",
       "      <td>0.000000</td>\n",
       "      <td>0.000000</td>\n",
       "      <td>0.0</td>\n",
       "      <td>0.000000</td>\n",
       "      <td>0.000000</td>\n",
       "      <td>40.512476</td>\n",
       "      <td>...</td>\n",
       "      <td>0.000000</td>\n",
       "      <td>0.000000</td>\n",
       "      <td>0.000000</td>\n",
       "      <td>0.000000</td>\n",
       "      <td>0.000000</td>\n",
       "      <td>0.000000</td>\n",
       "      <td>0.000000</td>\n",
       "      <td>0.000000</td>\n",
       "      <td>0.000000</td>\n",
       "      <td>0.000000</td>\n",
       "    </tr>\n",
       "    <tr>\n",
       "      <th>19</th>\n",
       "      <td>111</td>\n",
       "      <td>663</td>\n",
       "      <td>0.0</td>\n",
       "      <td>3.131975</td>\n",
       "      <td>9.464516</td>\n",
       "      <td>1.918911</td>\n",
       "      <td>0.0</td>\n",
       "      <td>2.815288</td>\n",
       "      <td>4.219536</td>\n",
       "      <td>85.198735</td>\n",
       "      <td>...</td>\n",
       "      <td>17.034159</td>\n",
       "      <td>2.526252</td>\n",
       "      <td>0.000000</td>\n",
       "      <td>0.710075</td>\n",
       "      <td>1.430627</td>\n",
       "      <td>1.591434</td>\n",
       "      <td>5.339685</td>\n",
       "      <td>0.481322</td>\n",
       "      <td>10.912210</td>\n",
       "      <td>2.733728</td>\n",
       "    </tr>\n",
       "  </tbody>\n",
       "</table>\n",
       "<p>5 rows × 33 columns</p>\n",
       "</div>"
      ],
      "text/plain": [
       "        class  level  pledge_cnt  random_attacker_cnt  random_defender_cnt  \\\n",
       "acc_id                                                                       \n",
       "7          27    112         0.0             0.000000             0.000000   \n",
       "15        273   1121         0.0             0.000000            39.041128   \n",
       "16          3     62         0.0             0.000000             0.000000   \n",
       "18         13      0         0.0             0.000000             0.000000   \n",
       "19        111    663         0.0             3.131975             9.464516   \n",
       "\n",
       "        temp_cnt  same_pledge_cnt   etc_cnt  num_opponent   playtime  ...  \\\n",
       "acc_id                                                                ...   \n",
       "7       1.918911              0.0  0.000000      0.294386   1.268015  ...   \n",
       "15      0.000000              0.0  2.027007      2.256961  86.784346  ...   \n",
       "16      0.000000              0.0  0.000000      0.000000   0.082954  ...   \n",
       "18      0.000000              0.0  0.000000      0.000000  40.512476  ...   \n",
       "19      1.918911              0.0  2.815288      4.219536  85.198735  ...   \n",
       "\n",
       "        play_char_cnt  combat_char_cnt  pledge_combat_cnt  \\\n",
       "acc_id                                                      \n",
       "7           19.560411         7.614846           0.506312   \n",
       "15          99.317807        15.410139           0.000000   \n",
       "16           1.190948         0.036089           0.000000   \n",
       "18           0.000000         0.000000           0.000000   \n",
       "19          17.034159         2.526252           0.000000   \n",
       "\n",
       "        random_attacker_cnt_plg  random_defender_cnt_plg  same_pledge_cnt_plg  \\\n",
       "acc_id                                                                          \n",
       "7                     19.527071                 4.721068             0.000000   \n",
       "15                     0.000000                48.355185             0.000000   \n",
       "16                     0.000000                 0.000000             0.000000   \n",
       "18                     0.000000                 0.000000             0.000000   \n",
       "19                     0.710075                 1.430627             1.591434   \n",
       "\n",
       "        temp_cnt_plg  etc_cnt_plg  combat_play_time  non_combat_play_time  \n",
       "acc_id                                                                     \n",
       "7          12.558147     4.098316         12.579598              0.000000  \n",
       "15          4.054205     1.797879        107.054983             16.478587  \n",
       "16          0.000000     0.007078          0.074364              0.056062  \n",
       "18          0.000000     0.000000          0.000000              0.000000  \n",
       "19          5.339685     0.481322         10.912210              2.733728  \n",
       "\n",
       "[5 rows x 33 columns]"
      ]
     },
     "execution_count": 37,
     "metadata": {},
     "output_type": "execute_result"
    }
   ],
   "source": [
    "mrg.head()"
   ]
  },
  {
   "cell_type": "code",
   "execution_count": 38,
   "metadata": {},
   "outputs": [],
   "source": [
    "mrg.to_csv('./Allmerge_test_notinlabel.csv')"
   ]
  },
  {
   "cell_type": "code",
   "execution_count": 39,
   "metadata": {},
   "outputs": [
    {
     "ename": "NameError",
     "evalue": "name 'label' is not defined",
     "output_type": "error",
     "traceback": [
      "\u001b[1;31m---------------------------------------------------------------------------\u001b[0m",
      "\u001b[1;31mNameError\u001b[0m                                 Traceback (most recent call last)",
      "\u001b[1;32m<ipython-input-39-86445b566d22>\u001b[0m in \u001b[0;36m<module>\u001b[1;34m\u001b[0m\n\u001b[1;32m----> 1\u001b[1;33m \u001b[0mmrg\u001b[0m \u001b[1;33m=\u001b[0m \u001b[0mmrg\u001b[0m\u001b[1;33m.\u001b[0m\u001b[0mmerge\u001b[0m\u001b[1;33m(\u001b[0m\u001b[0mlabel\u001b[0m\u001b[1;33m,\u001b[0m\u001b[0mon\u001b[0m\u001b[1;33m=\u001b[0m\u001b[1;34m'acc_id'\u001b[0m\u001b[1;33m)\u001b[0m\u001b[1;33m\u001b[0m\u001b[1;33m\u001b[0m\u001b[0m\n\u001b[0m",
      "\u001b[1;31mNameError\u001b[0m: name 'label' is not defined"
     ]
    }
   ],
   "source": [
    "mrg = mrg.merge(label,on='acc_id')"
   ]
  },
  {
   "cell_type": "code",
   "execution_count": null,
   "metadata": {},
   "outputs": [],
   "source": [
    "# mrg.to_csv('./Allmerge.csv')"
   ]
  },
  {
   "cell_type": "code",
   "execution_count": null,
   "metadata": {},
   "outputs": [],
   "source": [
    "mrg.shape"
   ]
  },
  {
   "cell_type": "code",
   "execution_count": null,
   "metadata": {},
   "outputs": [],
   "source": [
    "y = (mrg['survived'] == 1) "
   ]
  },
  {
   "cell_type": "code",
   "execution_count": null,
   "metadata": {},
   "outputs": [],
   "source": [
    "feature_names = [i for i in mrg if (i!='acc_id') & (i!='survival_time')& (i!='survived')]"
   ]
  },
  {
   "cell_type": "code",
   "execution_count": null,
   "metadata": {},
   "outputs": [],
   "source": [
    "X = mrg[feature_names]\n",
    "train_X, val_X, train_y, val_y = train_test_split(X, y, random_state=1)\n",
    "my_model = RandomForestClassifier(random_state=0).fit(train_X, train_y)"
   ]
  },
  {
   "cell_type": "code",
   "execution_count": null,
   "metadata": {},
   "outputs": [],
   "source": [
    "row_to_show = 5\n",
    "data_for_prediction = val_X.iloc[row_to_show]  \n",
    "# use 1 row of data here. Could use multiple rows if desired\n",
    "data_for_prediction_array = data_for_prediction.values.reshape(1, -1)\n",
    "\n",
    "\n",
    "my_model.predict_proba(data_for_prediction_array)"
   ]
  },
  {
   "cell_type": "code",
   "execution_count": null,
   "metadata": {},
   "outputs": [],
   "source": [
    "# conda install -c conda-forge shap \n",
    "import shap  # package used to calculate Shap values\n",
    "\n",
    "# Create object that can calculate shap values\n",
    "explainer = shap.TreeExplainer(my_model)\n",
    "\n",
    "# Calculate Shap values\n",
    "shap_values = explainer.shap_values(data_for_prediction)"
   ]
  },
  {
   "cell_type": "code",
   "execution_count": null,
   "metadata": {},
   "outputs": [],
   "source": [
    "shap.initjs()\n",
    "shap.force_plot(explainer.expected_value[1], shap_values[1], data_for_prediction)"
   ]
  },
  {
   "cell_type": "code",
   "execution_count": null,
   "metadata": {
    "scrolled": true
   },
   "outputs": [],
   "source": [
    "data_for_prediction.sort_values()"
   ]
  },
  {
   "cell_type": "code",
   "execution_count": null,
   "metadata": {},
   "outputs": [],
   "source": [
    "# # use Kernel SHAP to explain test set predictions\n",
    "# k_explainer = shap.KernelExplainer(my_model.predict_proba, train_X)\n",
    "# k_shap_values = k_explainer.shap_values(data_for_prediction)\n",
    "# shap.force_plot(k_explainer.expected_value[1], k_shap_values[1], data_for_prediction)"
   ]
  },
  {
   "cell_type": "code",
   "execution_count": null,
   "metadata": {},
   "outputs": [],
   "source": [
    "# pledge, payment 제외\n",
    "shap.initjs()\n",
    "shap.force_plot(explainer.expected_value[1], shap_values[1], data_for_prediction)"
   ]
  },
  {
   "cell_type": "code",
   "execution_count": null,
   "metadata": {
    "scrolled": true
   },
   "outputs": [],
   "source": [
    "\n",
    "pd.set_option('display.max_columns', None)\n",
    "display(mrg.corr())"
   ]
  },
  {
   "cell_type": "code",
   "execution_count": null,
   "metadata": {},
   "outputs": [],
   "source": [
    "corr = mrg.corr()"
   ]
  },
  {
   "cell_type": "code",
   "execution_count": null,
   "metadata": {},
   "outputs": [],
   "source": [
    "# corr[corr[]]\n",
    "\n",
    "corr[(corr>0.3)&(corr<1.0)|(corr<-0.3)&(corr>=-1.0)].index\n"
   ]
  },
  {
   "cell_type": "code",
   "execution_count": null,
   "metadata": {},
   "outputs": [],
   "source": [
    "corr2 = corr[(corr>0.3)&(corr<=1.0)|(corr<-0.3)&(corr>=-1.0)]"
   ]
  },
  {
   "cell_type": "code",
   "execution_count": null,
   "metadata": {},
   "outputs": [],
   "source": [
    "corr2.to_csv('./corrMrg3.csv')"
   ]
  },
  {
   "cell_type": "code",
   "execution_count": null,
   "metadata": {},
   "outputs": [],
   "source": [
    "corr2"
   ]
  }
 ],
 "metadata": {
  "kernelspec": {
   "display_name": "Python 3",
   "language": "python",
   "name": "python3"
  },
  "language_info": {
   "codemirror_mode": {
    "name": "ipython",
    "version": 3
   },
   "file_extension": ".py",
   "mimetype": "text/x-python",
   "name": "python",
   "nbconvert_exporter": "python",
   "pygments_lexer": "ipython3",
   "version": "3.7.3"
  }
 },
 "nbformat": 4,
 "nbformat_minor": 2
}
