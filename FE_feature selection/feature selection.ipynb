{
 "cells": [
  {
   "cell_type": "code",
   "execution_count": 10,
   "metadata": {},
   "outputs": [],
   "source": [
    "import numpy as np\n",
    "import pandas as pd\n",
    "\n",
    "from lightgbm import LGBMRegressor\n",
    "from sklearn.model_selection import train_test_split\n",
    "from sklearn.preprocessing import StandardScaler\n",
    "\n",
    "from sklearn.ensemble import RandomForestRegressor\n",
    "from boruta import BorutaPy\n",
    "import shap\n",
    "import eli5\n",
    "from eli5.sklearn import PermutationImportance\n",
    "\n",
    "import matplotlib.pyplot as plt\n",
    "\n",
    "import warnings\n",
    "import gc\n",
    "warnings.filterwarnings(\"ignore\")"
   ]
  },
  {
   "cell_type": "code",
   "execution_count": 32,
   "metadata": {},
   "outputs": [],
   "source": [
    "data = pd.read_csv('../SHAP/Allmerge2.csv', index_col='acc_id')\n",
    "data= data.drop(columns='Unnamed: 0')\n",
    "test = pd.read_csv('../SHAP/Allmerge_test_notinlabel.csv', index_col='acc_id')\n",
    "df = pd.concat([data, test])"
   ]
  },
  {
   "cell_type": "code",
   "execution_count": 34,
   "metadata": {},
   "outputs": [
    {
     "data": {
      "text/html": [
       "<div>\n",
       "<style scoped>\n",
       "    .dataframe tbody tr th:only-of-type {\n",
       "        vertical-align: middle;\n",
       "    }\n",
       "\n",
       "    .dataframe tbody tr th {\n",
       "        vertical-align: top;\n",
       "    }\n",
       "\n",
       "    .dataframe thead th {\n",
       "        text-align: right;\n",
       "    }\n",
       "</style>\n",
       "<table border=\"1\" class=\"dataframe\">\n",
       "  <thead>\n",
       "    <tr style=\"text-align: right;\">\n",
       "      <th></th>\n",
       "      <th>amount_spent</th>\n",
       "      <th>amount_spent_pmt</th>\n",
       "      <th>boss_monster</th>\n",
       "      <th>class</th>\n",
       "      <th>combat_char_cnt</th>\n",
       "      <th>combat_play_time</th>\n",
       "      <th>death</th>\n",
       "      <th>enchant_count</th>\n",
       "      <th>etc_cnt</th>\n",
       "      <th>etc_cnt_plg</th>\n",
       "      <th>...</th>\n",
       "      <th>random_attacker_cnt_plg</th>\n",
       "      <th>random_defender_cnt</th>\n",
       "      <th>random_defender_cnt_plg</th>\n",
       "      <th>revive</th>\n",
       "      <th>same_pledge_cnt</th>\n",
       "      <th>same_pledge_cnt_plg</th>\n",
       "      <th>solo_exp</th>\n",
       "      <th>survival_time</th>\n",
       "      <th>temp_cnt</th>\n",
       "      <th>temp_cnt_plg</th>\n",
       "    </tr>\n",
       "    <tr>\n",
       "      <th>acc_id</th>\n",
       "      <th></th>\n",
       "      <th></th>\n",
       "      <th></th>\n",
       "      <th></th>\n",
       "      <th></th>\n",
       "      <th></th>\n",
       "      <th></th>\n",
       "      <th></th>\n",
       "      <th></th>\n",
       "      <th></th>\n",
       "      <th></th>\n",
       "      <th></th>\n",
       "      <th></th>\n",
       "      <th></th>\n",
       "      <th></th>\n",
       "      <th></th>\n",
       "      <th></th>\n",
       "      <th></th>\n",
       "      <th></th>\n",
       "      <th></th>\n",
       "      <th></th>\n",
       "    </tr>\n",
       "  </thead>\n",
       "  <tbody>\n",
       "    <tr>\n",
       "      <th>2</th>\n",
       "      <td>0.000000</td>\n",
       "      <td>0.000000</td>\n",
       "      <td>0</td>\n",
       "      <td>28</td>\n",
       "      <td>0.000000</td>\n",
       "      <td>0.000000</td>\n",
       "      <td>0.000000</td>\n",
       "      <td>0.0</td>\n",
       "      <td>0.000000</td>\n",
       "      <td>0.000000</td>\n",
       "      <td>...</td>\n",
       "      <td>0.000000</td>\n",
       "      <td>0.000000</td>\n",
       "      <td>0.000000</td>\n",
       "      <td>0.000000</td>\n",
       "      <td>0.000000</td>\n",
       "      <td>0.000000</td>\n",
       "      <td>0.000000</td>\n",
       "      <td>64.0</td>\n",
       "      <td>0.000000</td>\n",
       "      <td>0.000000</td>\n",
       "    </tr>\n",
       "    <tr>\n",
       "      <th>5</th>\n",
       "      <td>0.000000</td>\n",
       "      <td>0.000000</td>\n",
       "      <td>9</td>\n",
       "      <td>36</td>\n",
       "      <td>1.587930</td>\n",
       "      <td>5.097608</td>\n",
       "      <td>0.245370</td>\n",
       "      <td>0.0</td>\n",
       "      <td>0.000000</td>\n",
       "      <td>0.814001</td>\n",
       "      <td>...</td>\n",
       "      <td>1.936569</td>\n",
       "      <td>0.000000</td>\n",
       "      <td>0.929907</td>\n",
       "      <td>0.246819</td>\n",
       "      <td>0.000000</td>\n",
       "      <td>0.000000</td>\n",
       "      <td>2.151033</td>\n",
       "      <td>60.0</td>\n",
       "      <td>0.479728</td>\n",
       "      <td>2.570959</td>\n",
       "    </tr>\n",
       "    <tr>\n",
       "      <th>8</th>\n",
       "      <td>0.020310</td>\n",
       "      <td>1.404644</td>\n",
       "      <td>2</td>\n",
       "      <td>485</td>\n",
       "      <td>58.031626</td>\n",
       "      <td>136.879854</td>\n",
       "      <td>91.768298</td>\n",
       "      <td>0.0</td>\n",
       "      <td>0.900892</td>\n",
       "      <td>61.354404</td>\n",
       "      <td>...</td>\n",
       "      <td>33.631748</td>\n",
       "      <td>1.183064</td>\n",
       "      <td>21.745527</td>\n",
       "      <td>92.310423</td>\n",
       "      <td>0.000000</td>\n",
       "      <td>29.441536</td>\n",
       "      <td>31.424841</td>\n",
       "      <td>64.0</td>\n",
       "      <td>3.837822</td>\n",
       "      <td>92.455650</td>\n",
       "    </tr>\n",
       "    <tr>\n",
       "      <th>17</th>\n",
       "      <td>0.070642</td>\n",
       "      <td>0.000000</td>\n",
       "      <td>21</td>\n",
       "      <td>34</td>\n",
       "      <td>21.689681</td>\n",
       "      <td>65.693573</td>\n",
       "      <td>1.717588</td>\n",
       "      <td>0.0</td>\n",
       "      <td>0.675669</td>\n",
       "      <td>12.514373</td>\n",
       "      <td>...</td>\n",
       "      <td>9.230979</td>\n",
       "      <td>2.366129</td>\n",
       "      <td>10.872764</td>\n",
       "      <td>1.727735</td>\n",
       "      <td>12.398273</td>\n",
       "      <td>1.591434</td>\n",
       "      <td>9.236949</td>\n",
       "      <td>64.0</td>\n",
       "      <td>3.358094</td>\n",
       "      <td>36.784494</td>\n",
       "    </tr>\n",
       "    <tr>\n",
       "      <th>20</th>\n",
       "      <td>0.052137</td>\n",
       "      <td>0.896531</td>\n",
       "      <td>8</td>\n",
       "      <td>158</td>\n",
       "      <td>25.515149</td>\n",
       "      <td>66.451919</td>\n",
       "      <td>0.981479</td>\n",
       "      <td>0.0</td>\n",
       "      <td>16.441283</td>\n",
       "      <td>44.409036</td>\n",
       "      <td>...</td>\n",
       "      <td>11.974452</td>\n",
       "      <td>1.183064</td>\n",
       "      <td>6.580883</td>\n",
       "      <td>0.987277</td>\n",
       "      <td>0.000000</td>\n",
       "      <td>11.140041</td>\n",
       "      <td>0.274340</td>\n",
       "      <td>64.0</td>\n",
       "      <td>0.479728</td>\n",
       "      <td>28.379435</td>\n",
       "    </tr>\n",
       "  </tbody>\n",
       "</table>\n",
       "<p>5 rows × 35 columns</p>\n",
       "</div>"
      ],
      "text/plain": [
       "        amount_spent  amount_spent_pmt  boss_monster  class  combat_char_cnt  \\\n",
       "acc_id                                                                         \n",
       "2           0.000000          0.000000             0     28         0.000000   \n",
       "5           0.000000          0.000000             9     36         1.587930   \n",
       "8           0.020310          1.404644             2    485        58.031626   \n",
       "17          0.070642          0.000000            21     34        21.689681   \n",
       "20          0.052137          0.896531             8    158        25.515149   \n",
       "\n",
       "        combat_play_time      death  enchant_count    etc_cnt  etc_cnt_plg  \\\n",
       "acc_id                                                                       \n",
       "2               0.000000   0.000000            0.0   0.000000     0.000000   \n",
       "5               5.097608   0.245370            0.0   0.000000     0.814001   \n",
       "8             136.879854  91.768298            0.0   0.900892    61.354404   \n",
       "17             65.693573   1.717588            0.0   0.675669    12.514373   \n",
       "20             66.451919   0.981479            0.0  16.441283    44.409036   \n",
       "\n",
       "        ...  random_attacker_cnt_plg  random_defender_cnt  \\\n",
       "acc_id  ...                                                 \n",
       "2       ...                 0.000000             0.000000   \n",
       "5       ...                 1.936569             0.000000   \n",
       "8       ...                33.631748             1.183064   \n",
       "17      ...                 9.230979             2.366129   \n",
       "20      ...                11.974452             1.183064   \n",
       "\n",
       "        random_defender_cnt_plg     revive  same_pledge_cnt  \\\n",
       "acc_id                                                        \n",
       "2                      0.000000   0.000000         0.000000   \n",
       "5                      0.929907   0.246819         0.000000   \n",
       "8                     21.745527  92.310423         0.000000   \n",
       "17                    10.872764   1.727735        12.398273   \n",
       "20                     6.580883   0.987277         0.000000   \n",
       "\n",
       "        same_pledge_cnt_plg   solo_exp  survival_time  temp_cnt  temp_cnt_plg  \n",
       "acc_id                                                                         \n",
       "2                  0.000000   0.000000           64.0  0.000000      0.000000  \n",
       "5                  0.000000   2.151033           60.0  0.479728      2.570959  \n",
       "8                 29.441536  31.424841           64.0  3.837822     92.455650  \n",
       "17                 1.591434   9.236949           64.0  3.358094     36.784494  \n",
       "20                11.140041   0.274340           64.0  0.479728     28.379435  \n",
       "\n",
       "[5 rows x 35 columns]"
      ]
     },
     "execution_count": 34,
     "metadata": {},
     "output_type": "execute_result"
    }
   ],
   "source": [
    "df.head()"
   ]
  },
  {
   "cell_type": "code",
   "execution_count": 36,
   "metadata": {},
   "outputs": [
    {
     "data": {
      "text/plain": [
       "amount_spent               float64\n",
       "amount_spent_pmt           float64\n",
       "boss_monster                 int64\n",
       "class                        int64\n",
       "combat_char_cnt            float64\n",
       "combat_play_time           float64\n",
       "death                      float64\n",
       "enchant_count              float64\n",
       "etc_cnt                    float64\n",
       "etc_cnt_plg                float64\n",
       "exp_recovery               float64\n",
       "fishing                    float64\n",
       "game_money_change          float64\n",
       "level                        int64\n",
       "non_combat_play_time       float64\n",
       "npc_kill                   float64\n",
       "num_opponent               float64\n",
       "party_exp                  float64\n",
       "play_char_cnt              float64\n",
       "playtime                   float64\n",
       "pledge_cnt                 float64\n",
       "pledge_combat_cnt          float64\n",
       "private_shop               float64\n",
       "quest_exp                  float64\n",
       "random_attacker_cnt        float64\n",
       "random_attacker_cnt_plg    float64\n",
       "random_defender_cnt        float64\n",
       "random_defender_cnt_plg    float64\n",
       "revive                     float64\n",
       "same_pledge_cnt            float64\n",
       "same_pledge_cnt_plg        float64\n",
       "solo_exp                   float64\n",
       "survival_time              float64\n",
       "temp_cnt                   float64\n",
       "temp_cnt_plg               float64\n",
       "dtype: object"
      ]
     },
     "execution_count": 36,
     "metadata": {},
     "output_type": "execute_result"
    }
   ],
   "source": [
    "df.dtypes"
   ]
  },
  {
   "cell_type": "code",
   "execution_count": 37,
   "metadata": {},
   "outputs": [
    {
     "data": {
      "text/plain": [
       "34"
      ]
     },
     "execution_count": 37,
     "metadata": {},
     "output_type": "execute_result"
    }
   ],
   "source": [
    "def rmse_expm1(pred, true):\n",
    "    return -np.sqrt(np.mean((np.expm1(pred)-np.expm1(true))**2))\n",
    "\n",
    "def evaluate(x_data, y_data):\n",
    "    model = LGBMRegressor(objective='regression', num_iterations=10**5)\n",
    "    x_train, x_val, y_train, y_val = train_test_split(x_data, y_data, random_state=0)\n",
    "    model.fit(x_train, y_train, eval_set=[(x_val, y_val)], early_stopping_rounds=100, verbose=False)\n",
    "    val_pred = model.predict(x_val)\n",
    "    score = rmse_expm1(val_pred, y_val)\n",
    "    return score\n",
    "\n",
    "def rfe(x_data, y_data, method, ratio=0.9, min_feats=40):\n",
    "    feats = x_data.columns.tolist()\n",
    "    archive = pd.DataFrame(columns=['model', 'n_feats', 'feats', 'score'])\n",
    "    while True:\n",
    "        model = LGBMRegressor(objective='regression', num_iterations=10**5)\n",
    "        x_train, x_val, y_train, y_val = train_test_split(x_data[feats], y_data, random_state=0)\n",
    "        model.fit(x_train, y_train, eval_set=[(x_val, y_val)], early_stopping_rounds=100, verbose=False)\n",
    "        val_pred = model.predict(x_val)\n",
    "        score = rmse_expm1(val_pred, y_val)\n",
    "        n_feats = len(feats)\n",
    "        print(n_feats, score)\n",
    "        archive = archive.append({'model': model, 'n_feats': n_feats, 'feats': feats, 'score': score}, ignore_index=True)\n",
    "        if method == 'basic':\n",
    "            feat_imp = pd.Series(model.feature_importances_, index=feats).sort_values(ascending=False)\n",
    "        elif method == 'perm':\n",
    "            perm = PermutationImportance(model, random_state=0).fit(x_val, y_val)\n",
    "            feat_imp = pd.Series(perm.feature_importances_, index=feats).sort_values(ascending=False)\n",
    "        elif method == 'shap':\n",
    "            explainer = shap.TreeExplainer(model)\n",
    "            shap_values = explainer.shap_values(x_data[feats])\n",
    "            feat_imp = pd.Series(np.abs(shap_values).mean(axis=0), index=feats).sort_values(ascending=False)\n",
    "        next_n_feats = int(n_feats * ratio)\n",
    "        if next_n_feats < min_feats:\n",
    "            break\n",
    "        else:\n",
    "            feats = feat_imp.iloc[:next_n_feats].index.tolist()\n",
    "    return archive\n",
    "\n",
    "feats = [col for col in data.columns if col != 'survival_time']\n",
    "len(feats) "
   ]
  },
  {
   "cell_type": "code",
   "execution_count": 38,
   "metadata": {},
   "outputs": [
    {
     "data": {
      "text/html": [
       "['class', 'level', 'pledge_cnt', 'random_attacker_cnt', 'random_defender_cnt', 'temp_cnt', 'same_pledge_cnt', 'etc_cnt', 'num_opponent', 'playtime', 'npc_kill', 'solo_exp', 'party_exp', 'quest_exp', 'boss_monster', 'death', 'revive', 'exp_recovery', 'fishing', 'private_shop', 'game_money_change', 'enchant_count', 'amount_spent_pmt', 'play_char_cnt', 'combat_char_cnt', 'pledge_combat_cnt', 'random_attacker_cnt_plg', 'random_defender_cnt_plg', 'same_pledge_cnt_plg', 'temp_cnt_plg', 'etc_cnt_plg', 'combat_play_time', 'non_combat_play_time', 'amount_spent']"
      ],
      "text/plain": [
       "['class',\n",
       " 'level',\n",
       " 'pledge_cnt',\n",
       " 'random_attacker_cnt',\n",
       " 'random_defender_cnt',\n",
       " 'temp_cnt',\n",
       " 'same_pledge_cnt',\n",
       " 'etc_cnt',\n",
       " 'num_opponent',\n",
       " 'playtime',\n",
       " 'npc_kill',\n",
       " 'solo_exp',\n",
       " 'party_exp',\n",
       " 'quest_exp',\n",
       " 'boss_monster',\n",
       " 'death',\n",
       " 'revive',\n",
       " 'exp_recovery',\n",
       " 'fishing',\n",
       " 'private_shop',\n",
       " 'game_money_change',\n",
       " 'enchant_count',\n",
       " 'amount_spent_pmt',\n",
       " 'play_char_cnt',\n",
       " 'combat_char_cnt',\n",
       " 'pledge_combat_cnt',\n",
       " 'random_attacker_cnt_plg',\n",
       " 'random_defender_cnt_plg',\n",
       " 'same_pledge_cnt_plg',\n",
       " 'temp_cnt_plg',\n",
       " 'etc_cnt_plg',\n",
       " 'combat_play_time',\n",
       " 'non_combat_play_time',\n",
       " 'amount_spent']"
      ]
     },
     "execution_count": 38,
     "metadata": {},
     "output_type": "execute_result"
    }
   ],
   "source": [
    "feats"
   ]
  },
  {
   "cell_type": "code",
   "execution_count": 40,
   "metadata": {},
   "outputs": [
    {
     "data": {
      "text/plain": [
       "-1.163818497455815e+33"
      ]
     },
     "execution_count": 40,
     "metadata": {},
     "output_type": "execute_result"
    }
   ],
   "source": [
    "model = LGBMRegressor(objective='regression', num_iterations=10**5)\n",
    "x_data = data[feats]\n",
    "y_data = data['survival_time']\n",
    "x_train, x_val, y_train, y_val = train_test_split(x_data, y_data, random_state=0)\n",
    "model.fit(x_train, y_train, eval_set=[(x_val, y_val)], early_stopping_rounds=100, verbose=False)\n",
    "val_pred = model.predict(x_val)\n",
    "score = rmse_expm1(val_pred, y_val)\n",
    "score"
   ]
  },
  {
   "cell_type": "code",
   "execution_count": 41,
   "metadata": {},
   "outputs": [
    {
     "name": "stdout",
     "output_type": "stream",
     "text": [
      "34 -1.163818497455815e+33\n",
      "Wall time: 3.13 s\n"
     ]
    }
   ],
   "source": [
    "%%time\n",
    "basic_archive = rfe(x_data, y_data, 'basic')"
   ]
  },
  {
   "cell_type": "code",
   "execution_count": 43,
   "metadata": {},
   "outputs": [
    {
     "name": "stdout",
     "output_type": "stream",
     "text": [
      "40 -1.1638184981509059e+33\n",
      "45 -1.1638184981509059e+33\n",
      "50 -1.1638184981509059e+33\n",
      "55 -1.1638184981509059e+33\n",
      "60 -1.1638184981509059e+33\n",
      "65 -1.1638184981509059e+33\n",
      "70 -1.1638184981509059e+33\n",
      "75 -1.1638184981509059e+33\n",
      "80 -1.1638184981509059e+33\n",
      "85 -1.1638184981509059e+33\n"
     ]
    }
   ],
   "source": [
    "feat_imp = pd.Series(model.feature_importances_, index=feats).sort_values(ascending=False)\n",
    "for i in range(40, 90, 5):\n",
    "    print(i, evaluate(data[feat_imp.iloc[:i].index], data['survival_time']))"
   ]
  },
  {
   "cell_type": "code",
   "execution_count": 44,
   "metadata": {},
   "outputs": [
    {
     "name": "stdout",
     "output_type": "stream",
     "text": [
      "34 -1.163818497455815e+33\n",
      "Wall time: 24.6 s\n"
     ]
    }
   ],
   "source": [
    "%%time\n",
    "perm_archive = rfe(x_data, y_data, 'perm')"
   ]
  },
  {
   "cell_type": "code",
   "execution_count": 45,
   "metadata": {},
   "outputs": [
    {
     "data": {
      "text/html": [
       "\n",
       "    <style>\n",
       "    table.eli5-weights tr:hover {\n",
       "        filter: brightness(85%);\n",
       "    }\n",
       "</style>\n",
       "\n",
       "\n",
       "\n",
       "    \n",
       "\n",
       "    \n",
       "\n",
       "    \n",
       "\n",
       "    \n",
       "\n",
       "    \n",
       "\n",
       "    \n",
       "\n",
       "\n",
       "    \n",
       "\n",
       "    \n",
       "\n",
       "    \n",
       "\n",
       "    \n",
       "\n",
       "    \n",
       "\n",
       "    \n",
       "\n",
       "\n",
       "    \n",
       "\n",
       "    \n",
       "\n",
       "    \n",
       "\n",
       "    \n",
       "\n",
       "    \n",
       "        <table class=\"eli5-weights eli5-feature-importances\" style=\"border-collapse: collapse; border: none; margin-top: 0em; table-layout: auto;\">\n",
       "    <thead>\n",
       "    <tr style=\"border: none;\">\n",
       "        <th style=\"padding: 0 1em 0 0.5em; text-align: right; border: none;\">Weight</th>\n",
       "        <th style=\"padding: 0 0.5em 0 0.5em; text-align: left; border: none;\">Feature</th>\n",
       "    </tr>\n",
       "    </thead>\n",
       "    <tbody>\n",
       "    \n",
       "        <tr style=\"background-color: hsl(120, 100.00%, 80.00%); border: none;\">\n",
       "            <td style=\"padding: 0 1em 0 0.5em; text-align: right; border: none;\">\n",
       "                0.3879\n",
       "                \n",
       "                    &plusmn; 0.0148\n",
       "                \n",
       "            </td>\n",
       "            <td style=\"padding: 0 0.5em 0 0.5em; text-align: left; border: none;\">\n",
       "                x33\n",
       "            </td>\n",
       "        </tr>\n",
       "    \n",
       "        <tr style=\"background-color: hsl(120, 100.00%, 88.91%); border: none;\">\n",
       "            <td style=\"padding: 0 1em 0 0.5em; text-align: right; border: none;\">\n",
       "                0.1671\n",
       "                \n",
       "                    &plusmn; 0.0097\n",
       "                \n",
       "            </td>\n",
       "            <td style=\"padding: 0 0.5em 0 0.5em; text-align: left; border: none;\">\n",
       "                x9\n",
       "            </td>\n",
       "        </tr>\n",
       "    \n",
       "        <tr style=\"background-color: hsl(120, 100.00%, 92.22%); border: none;\">\n",
       "            <td style=\"padding: 0 1em 0 0.5em; text-align: right; border: none;\">\n",
       "                0.1007\n",
       "                \n",
       "                    &plusmn; 0.0032\n",
       "                \n",
       "            </td>\n",
       "            <td style=\"padding: 0 0.5em 0 0.5em; text-align: left; border: none;\">\n",
       "                x1\n",
       "            </td>\n",
       "        </tr>\n",
       "    \n",
       "        <tr style=\"background-color: hsl(120, 100.00%, 94.59%); border: none;\">\n",
       "            <td style=\"padding: 0 1em 0 0.5em; text-align: right; border: none;\">\n",
       "                0.0599\n",
       "                \n",
       "                    &plusmn; 0.0029\n",
       "                \n",
       "            </td>\n",
       "            <td style=\"padding: 0 0.5em 0 0.5em; text-align: left; border: none;\">\n",
       "                x22\n",
       "            </td>\n",
       "        </tr>\n",
       "    \n",
       "        <tr style=\"background-color: hsl(120, 100.00%, 96.12%); border: none;\">\n",
       "            <td style=\"padding: 0 1em 0 0.5em; text-align: right; border: none;\">\n",
       "                0.0373\n",
       "                \n",
       "                    &plusmn; 0.0031\n",
       "                \n",
       "            </td>\n",
       "            <td style=\"padding: 0 0.5em 0 0.5em; text-align: left; border: none;\">\n",
       "                x11\n",
       "            </td>\n",
       "        </tr>\n",
       "    \n",
       "        <tr style=\"background-color: hsl(120, 100.00%, 96.44%); border: none;\">\n",
       "            <td style=\"padding: 0 1em 0 0.5em; text-align: right; border: none;\">\n",
       "                0.0330\n",
       "                \n",
       "                    &plusmn; 0.0011\n",
       "                \n",
       "            </td>\n",
       "            <td style=\"padding: 0 0.5em 0 0.5em; text-align: left; border: none;\">\n",
       "                x19\n",
       "            </td>\n",
       "        </tr>\n",
       "    \n",
       "        <tr style=\"background-color: hsl(120, 100.00%, 96.64%); border: none;\">\n",
       "            <td style=\"padding: 0 1em 0 0.5em; text-align: right; border: none;\">\n",
       "                0.0303\n",
       "                \n",
       "                    &plusmn; 0.0039\n",
       "                \n",
       "            </td>\n",
       "            <td style=\"padding: 0 0.5em 0 0.5em; text-align: left; border: none;\">\n",
       "                x24\n",
       "            </td>\n",
       "        </tr>\n",
       "    \n",
       "        <tr style=\"background-color: hsl(120, 100.00%, 96.69%); border: none;\">\n",
       "            <td style=\"padding: 0 1em 0 0.5em; text-align: right; border: none;\">\n",
       "                0.0297\n",
       "                \n",
       "                    &plusmn; 0.0016\n",
       "                \n",
       "            </td>\n",
       "            <td style=\"padding: 0 0.5em 0 0.5em; text-align: left; border: none;\">\n",
       "                x0\n",
       "            </td>\n",
       "        </tr>\n",
       "    \n",
       "        <tr style=\"background-color: hsl(120, 100.00%, 96.71%); border: none;\">\n",
       "            <td style=\"padding: 0 1em 0 0.5em; text-align: right; border: none;\">\n",
       "                0.0294\n",
       "                \n",
       "                    &plusmn; 0.0016\n",
       "                \n",
       "            </td>\n",
       "            <td style=\"padding: 0 0.5em 0 0.5em; text-align: left; border: none;\">\n",
       "                x10\n",
       "            </td>\n",
       "        </tr>\n",
       "    \n",
       "        <tr style=\"background-color: hsl(120, 100.00%, 97.18%); border: none;\">\n",
       "            <td style=\"padding: 0 1em 0 0.5em; text-align: right; border: none;\">\n",
       "                0.0236\n",
       "                \n",
       "                    &plusmn; 0.0058\n",
       "                \n",
       "            </td>\n",
       "            <td style=\"padding: 0 0.5em 0 0.5em; text-align: left; border: none;\">\n",
       "                x20\n",
       "            </td>\n",
       "        </tr>\n",
       "    \n",
       "        <tr style=\"background-color: hsl(120, 100.00%, 97.62%); border: none;\">\n",
       "            <td style=\"padding: 0 1em 0 0.5em; text-align: right; border: none;\">\n",
       "                0.0186\n",
       "                \n",
       "                    &plusmn; 0.0019\n",
       "                \n",
       "            </td>\n",
       "            <td style=\"padding: 0 0.5em 0 0.5em; text-align: left; border: none;\">\n",
       "                x18\n",
       "            </td>\n",
       "        </tr>\n",
       "    \n",
       "        <tr style=\"background-color: hsl(120, 100.00%, 97.65%); border: none;\">\n",
       "            <td style=\"padding: 0 1em 0 0.5em; text-align: right; border: none;\">\n",
       "                0.0182\n",
       "                \n",
       "                    &plusmn; 0.0017\n",
       "                \n",
       "            </td>\n",
       "            <td style=\"padding: 0 0.5em 0 0.5em; text-align: left; border: none;\">\n",
       "                x29\n",
       "            </td>\n",
       "        </tr>\n",
       "    \n",
       "        <tr style=\"background-color: hsl(120, 100.00%, 97.68%); border: none;\">\n",
       "            <td style=\"padding: 0 1em 0 0.5em; text-align: right; border: none;\">\n",
       "                0.0178\n",
       "                \n",
       "                    &plusmn; 0.0016\n",
       "                \n",
       "            </td>\n",
       "            <td style=\"padding: 0 0.5em 0 0.5em; text-align: left; border: none;\">\n",
       "                x12\n",
       "            </td>\n",
       "        </tr>\n",
       "    \n",
       "        <tr style=\"background-color: hsl(120, 100.00%, 97.79%); border: none;\">\n",
       "            <td style=\"padding: 0 1em 0 0.5em; text-align: right; border: none;\">\n",
       "                0.0167\n",
       "                \n",
       "                    &plusmn; 0.0025\n",
       "                \n",
       "            </td>\n",
       "            <td style=\"padding: 0 0.5em 0 0.5em; text-align: left; border: none;\">\n",
       "                x23\n",
       "            </td>\n",
       "        </tr>\n",
       "    \n",
       "        <tr style=\"background-color: hsl(120, 100.00%, 97.80%); border: none;\">\n",
       "            <td style=\"padding: 0 1em 0 0.5em; text-align: right; border: none;\">\n",
       "                0.0166\n",
       "                \n",
       "                    &plusmn; 0.0023\n",
       "                \n",
       "            </td>\n",
       "            <td style=\"padding: 0 0.5em 0 0.5em; text-align: left; border: none;\">\n",
       "                x8\n",
       "            </td>\n",
       "        </tr>\n",
       "    \n",
       "        <tr style=\"background-color: hsl(120, 100.00%, 97.95%); border: none;\">\n",
       "            <td style=\"padding: 0 1em 0 0.5em; text-align: right; border: none;\">\n",
       "                0.0149\n",
       "                \n",
       "                    &plusmn; 0.0014\n",
       "                \n",
       "            </td>\n",
       "            <td style=\"padding: 0 0.5em 0 0.5em; text-align: left; border: none;\">\n",
       "                x31\n",
       "            </td>\n",
       "        </tr>\n",
       "    \n",
       "        <tr style=\"background-color: hsl(120, 100.00%, 98.00%); border: none;\">\n",
       "            <td style=\"padding: 0 1em 0 0.5em; text-align: right; border: none;\">\n",
       "                0.0145\n",
       "                \n",
       "                    &plusmn; 0.0018\n",
       "                \n",
       "            </td>\n",
       "            <td style=\"padding: 0 0.5em 0 0.5em; text-align: left; border: none;\">\n",
       "                x32\n",
       "            </td>\n",
       "        </tr>\n",
       "    \n",
       "        <tr style=\"background-color: hsl(120, 100.00%, 98.15%); border: none;\">\n",
       "            <td style=\"padding: 0 1em 0 0.5em; text-align: right; border: none;\">\n",
       "                0.0129\n",
       "                \n",
       "                    &plusmn; 0.0010\n",
       "                \n",
       "            </td>\n",
       "            <td style=\"padding: 0 0.5em 0 0.5em; text-align: left; border: none;\">\n",
       "                x14\n",
       "            </td>\n",
       "        </tr>\n",
       "    \n",
       "        <tr style=\"background-color: hsl(120, 100.00%, 98.18%); border: none;\">\n",
       "            <td style=\"padding: 0 1em 0 0.5em; text-align: right; border: none;\">\n",
       "                0.0127\n",
       "                \n",
       "                    &plusmn; 0.0015\n",
       "                \n",
       "            </td>\n",
       "            <td style=\"padding: 0 0.5em 0 0.5em; text-align: left; border: none;\">\n",
       "                x30\n",
       "            </td>\n",
       "        </tr>\n",
       "    \n",
       "        <tr style=\"background-color: hsl(120, 100.00%, 98.34%); border: none;\">\n",
       "            <td style=\"padding: 0 1em 0 0.5em; text-align: right; border: none;\">\n",
       "                0.0111\n",
       "                \n",
       "                    &plusmn; 0.0013\n",
       "                \n",
       "            </td>\n",
       "            <td style=\"padding: 0 0.5em 0 0.5em; text-align: left; border: none;\">\n",
       "                x27\n",
       "            </td>\n",
       "        </tr>\n",
       "    \n",
       "    \n",
       "        \n",
       "            <tr style=\"background-color: hsl(120, 100.00%, 98.34%); border: none;\">\n",
       "                <td colspan=\"2\" style=\"padding: 0 0.5em 0 0.5em; text-align: center; border: none; white-space: nowrap;\">\n",
       "                    <i>&hellip; 14 more &hellip;</i>\n",
       "                </td>\n",
       "            </tr>\n",
       "        \n",
       "    \n",
       "    </tbody>\n",
       "</table>\n",
       "    \n",
       "\n",
       "    \n",
       "\n",
       "\n",
       "    \n",
       "\n",
       "    \n",
       "\n",
       "    \n",
       "\n",
       "    \n",
       "\n",
       "    \n",
       "\n",
       "    \n",
       "\n",
       "\n",
       "\n"
      ],
      "text/plain": [
       "<IPython.core.display.HTML object>"
      ]
     },
     "execution_count": 45,
     "metadata": {},
     "output_type": "execute_result"
    }
   ],
   "source": [
    "perm = PermutationImportance(model, random_state=0).fit(x_val, y_val)\n",
    "perm_feat_imp = pd.Series(perm.feature_importances_, index=feats).sort_values(ascending=False)\n",
    "eli5.show_weights(perm)"
   ]
  },
  {
   "cell_type": "code",
   "execution_count": 47,
   "metadata": {},
   "outputs": [
    {
     "name": "stdout",
     "output_type": "stream",
     "text": [
      "40 -1.1638184981509059e+33\n",
      "45 -1.1638184981509059e+33\n",
      "50 -1.1638184981509059e+33\n",
      "55 -1.1638184981509059e+33\n",
      "60 -1.1638184981509059e+33\n",
      "65 -1.1638184981509059e+33\n",
      "70 -1.1638184981509059e+33\n",
      "75 -1.1638184981509059e+33\n",
      "80 -1.1638184981509059e+33\n",
      "85 -1.1638184981509059e+33\n"
     ]
    }
   ],
   "source": [
    "for i in range(40, 90, 5):\n",
    "    print(i, evaluate(data[perm_feat_imp.iloc[:i].index], data['survival_time']))"
   ]
  },
  {
   "cell_type": "code",
   "execution_count": 48,
   "metadata": {},
   "outputs": [
    {
     "name": "stdout",
     "output_type": "stream",
     "text": [
      "34 -1.163818497455815e+33\n",
      "Wall time: 36.7 s\n"
     ]
    }
   ],
   "source": [
    "%%time\n",
    "shap_archive = rfe(x_data, y_data, 'shap')"
   ]
  },
  {
   "cell_type": "code",
   "execution_count": 49,
   "metadata": {
    "scrolled": true
   },
   "outputs": [
    {
     "data": {
      "image/png": "[encoded data removed]",
      "text/plain": [
       "<Figure size 576x684 with 2 Axes>"
      ]
     },
     "metadata": {
      "needs_background": "light"
     },
     "output_type": "display_data"
    }
   ],
   "source": [
    "explainer = shap.TreeExplainer(model)\n",
    "shap_values = explainer.shap_values(x_data)\n",
    "shap_feat_imp = pd.Series(np.abs(shap_values).mean(axis=0), index=feats).sort_values(ascending=False)\n",
    "shap.summary_plot(shap_values, x_data)"
   ]
  },
  {
   "cell_type": "code",
   "execution_count": 51,
   "metadata": {},
   "outputs": [
    {
     "name": "stdout",
     "output_type": "stream",
     "text": [
      "40 -1.163818497455815e+33\n",
      "45 -1.163818497455815e+33\n",
      "50 -1.163818497455815e+33\n",
      "55 -1.163818497455815e+33\n",
      "60 -1.163818497455815e+33\n",
      "65 -1.163818497455815e+33\n",
      "70 -1.163818497455815e+33\n",
      "75 -1.163818497455815e+33\n",
      "80 -1.163818497455815e+33\n",
      "85 -1.163818497455815e+33\n"
     ]
    }
   ],
   "source": [
    "for i in range(40, 90, 5):\n",
    "    print(i, evaluate(data[shap_feat_imp.iloc[:i].index], data['survival_time']))"
   ]
  },
  {
   "cell_type": "code",
   "execution_count": 52,
   "metadata": {},
   "outputs": [
    {
     "data": {
      "image/png": "[encoded data removed]",
      "text/plain": [
       "<Figure size 1440x720 with 1 Axes>"
      ]
     },
     "metadata": {
      "needs_background": "light"
     },
     "output_type": "display_data"
    }
   ],
   "source": [
    "feat_imp_archive = pd.DataFrame(index=feats, columns=['basic', 'perm', 'shap', 'mean'])\n",
    "feat_imp_archive['basic'] = feat_imp.rank(ascending=False)\n",
    "feat_imp_archive['perm'] = perm_feat_imp.rank(ascending=False)\n",
    "feat_imp_archive['shap'] = shap_feat_imp.rank(ascending=False)\n",
    "feat_imp_archive['mean'] = feat_imp_archive[['basic', 'perm', 'shap']].mean(axis=1)\n",
    "feat_imp_archive = feat_imp_archive.sort_values('mean')\n",
    "feat_imp_archive[feat_imp_archive['mean']<20].plot(kind='bar', figsize=(20, 10), title='feature importance rankings');"
   ]
  },
  {
   "cell_type": "code",
   "execution_count": 53,
   "metadata": {},
   "outputs": [
    {
     "name": "stdout",
     "output_type": "stream",
     "text": [
      "40 -1.1638184981509059e+33\n",
      "45 -1.1638184981509059e+33\n",
      "50 -1.1638184981509059e+33\n",
      "55 -1.1638184981509059e+33\n",
      "60 -1.1638184981509059e+33\n",
      "65 -1.1638184981509059e+33\n",
      "70 -1.1638184981509059e+33\n",
      "75 -1.1638184981509059e+33\n",
      "80 -1.1638184981509059e+33\n",
      "85 -1.1638184981509059e+33\n"
     ]
    }
   ],
   "source": [
    "for i in range(40, 90, 5):\n",
    "    print(i, evaluate(data[feat_imp_archive.iloc[:i].index], data['survival_time']))"
   ]
  },
  {
   "cell_type": "code",
   "execution_count": 55,
   "metadata": {},
   "outputs": [
    {
     "name": "stdout",
     "output_type": "stream",
     "text": [
      "Wall time: 11min 10s\n"
     ]
    },
    {
     "data": {
      "text/plain": [
       "BorutaPy(alpha=0.05,\n",
       "         estimator=RandomForestRegressor(bootstrap=True, criterion='mse',\n",
       "                                         max_depth=5, max_features='auto',\n",
       "                                         max_leaf_nodes=None,\n",
       "                                         min_impurity_decrease=0.0,\n",
       "                                         min_impurity_split=None,\n",
       "                                         min_samples_leaf=1,\n",
       "                                         min_samples_split=2,\n",
       "                                         min_weight_fraction_leaf=0.0,\n",
       "                                         n_estimators=132, n_jobs=-1,\n",
       "                                         oob_score=False,\n",
       "                                         random_state=<mtrand.RandomState object at 0x000001BB1C6A5C18>,\n",
       "                                         verbose=0, warm_start=False),\n",
       "         max_iter=100, n_estimators='auto', perc=100,\n",
       "         random_state=<mtrand.RandomState object at 0x000001BB1C6A5C18>,\n",
       "         two_step=True, verbose=0)"
      ]
     },
     "execution_count": 55,
     "metadata": {},
     "output_type": "execute_result"
    }
   ],
   "source": [
    "%%time\n",
    "rf = RandomForestRegressor(n_jobs=-1, n_estimators=200, max_depth=5)\n",
    "feat_selector = BorutaPy(rf, n_estimators='auto', verbose=0, random_state=0)\n",
    "feat_selector.fit(data[feats].values, data['survival_time'].values)"
   ]
  },
  {
   "cell_type": "code",
   "execution_count": 62,
   "metadata": {},
   "outputs": [
    {
     "data": {
      "text/plain": [
       "-2.4669759627157155e+34"
      ]
     },
     "execution_count": 62,
     "metadata": {},
     "output_type": "execute_result"
    }
   ],
   "source": [
    "evaluate(data[np.array(feats)[feat_selector.support_]], data['survival_time'])"
   ]
  },
  {
   "cell_type": "code",
   "execution_count": null,
   "metadata": {},
   "outputs": [],
   "source": []
  },
  {
   "cell_type": "code",
   "execution_count": null,
   "metadata": {},
   "outputs": [],
   "source": []
  },
  {
   "cell_type": "code",
   "execution_count": 63,
   "metadata": {},
   "outputs": [
    {
     "name": "stdout",
     "output_type": "stream",
     "text": [
      "249993080000.0\n",
      "\n",
      "\n",
      "\n",
      "Time taken: 0:00:02.880938\n",
      "\n",
      "\n",
      "\n"
     ]
    }
   ],
   "source": [
    "# gpu_test.py\n",
    "\n",
    "import sys\n",
    "import numpy as np\n",
    "import tensorflow as tf\n",
    "from datetime import datetime\n",
    "\n",
    "shape = (int(10000), int(10000))\n",
    "\n",
    "# with tf.device(\"/cpu:0\"):\n",
    "with tf.device(\"/gpu:0\"):\n",
    "    random_matrix = tf.random_uniform(shape=shape, minval=0, maxval=1)\n",
    "    dot_operation = tf.matmul(random_matrix, tf.transpose(random_matrix))\n",
    "    sum_operation = tf.reduce_sum(dot_operation)\n",
    "\n",
    "startTime = datetime.now()\n",
    "with tf.Session(config=tf.ConfigProto(log_device_placement=True)) as session:\n",
    "    result = session.run(sum_operation)\n",
    "    print(result)\n",
    "\n",
    "print(\"\\n\" * 2)\n",
    "print(\"Time taken:\", datetime.now() - startTime)\n",
    "print(\"\\n\" * 2)"
   ]
  },
  {
   "cell_type": "code",
   "execution_count": null,
   "metadata": {},
   "outputs": [],
   "source": []
  }
 ],
 "metadata": {
  "kernelspec": {
   "display_name": "Python 3",
   "language": "python",
   "name": "python3"
  },
  "language_info": {
   "codemirror_mode": {
    "name": "ipython",
    "version": 3
   },
   "file_extension": ".py",
   "mimetype": "text/x-python",
   "name": "python",
   "nbconvert_exporter": "python",
   "pygments_lexer": "ipython3",
   "version": "3.7.3"
  }
 },
 "nbformat": 4,
 "nbformat_minor": 2
}
