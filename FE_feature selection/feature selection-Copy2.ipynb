{
 "cells": [
  {
   "cell_type": "code",
   "execution_count": 1,
   "metadata": {},
   "outputs": [
    {
     "name": "stderr",
     "output_type": "stream",
     "text": [
      "Using TensorFlow backend.\n"
     ]
    }
   ],
   "source": [
    "import numpy as np\n",
    "import pandas as pd\n",
    "\n",
    "from lightgbm import LGBMRegressor\n",
    "from sklearn.model_selection import train_test_split\n",
    "from sklearn.preprocessing import StandardScaler\n",
    "\n",
    "from sklearn.ensemble import RandomForestRegressor\n",
    "from boruta import BorutaPy\n",
    "import shap\n",
    "import eli5\n",
    "from eli5.sklearn import PermutationImportance\n",
    "\n",
    "import matplotlib.pyplot as plt\n",
    "\n",
    "import warnings\n",
    "import gc\n",
    "warnings.filterwarnings(\"ignore\")\n"
   ]
  },
  {
   "cell_type": "code",
   "execution_count": 2,
   "metadata": {},
   "outputs": [],
   "source": [
    "data = pd.read_csv('../SHAP/Allmerge2_payment.csv', index_col='acc_id')\n",
    "data= data.drop(columns='Unnamed: 0')\n",
    "test = pd.read_csv('../SHAP/Allmerge2_pameny_test.csv', index_col='acc_id')\n",
    "df = pd.concat([data, test])"
   ]
  },
  {
   "cell_type": "code",
   "execution_count": 3,
   "metadata": {},
   "outputs": [
    {
     "data": {
      "text/html": [
       "<div>\n",
       "<style scoped>\n",
       "    .dataframe tbody tr th:only-of-type {\n",
       "        vertical-align: middle;\n",
       "    }\n",
       "\n",
       "    .dataframe tbody tr th {\n",
       "        vertical-align: top;\n",
       "    }\n",
       "\n",
       "    .dataframe thead th {\n",
       "        text-align: right;\n",
       "    }\n",
       "</style>\n",
       "<table border=\"1\" class=\"dataframe\">\n",
       "  <thead>\n",
       "    <tr style=\"text-align: right;\">\n",
       "      <th></th>\n",
       "      <th>amount_spent</th>\n",
       "      <th>amount_spent_pmt</th>\n",
       "      <th>boss_monster</th>\n",
       "      <th>class</th>\n",
       "      <th>combat_char_cnt</th>\n",
       "      <th>combat_play_time</th>\n",
       "      <th>death</th>\n",
       "      <th>enchant_count</th>\n",
       "      <th>etc_cnt</th>\n",
       "      <th>etc_cnt_plg</th>\n",
       "      <th>...</th>\n",
       "      <th>random_attacker_cnt_plg</th>\n",
       "      <th>random_defender_cnt</th>\n",
       "      <th>random_defender_cnt_plg</th>\n",
       "      <th>revive</th>\n",
       "      <th>same_pledge_cnt</th>\n",
       "      <th>same_pledge_cnt_plg</th>\n",
       "      <th>solo_exp</th>\n",
       "      <th>survival_time</th>\n",
       "      <th>temp_cnt</th>\n",
       "      <th>temp_cnt_plg</th>\n",
       "    </tr>\n",
       "    <tr>\n",
       "      <th>acc_id</th>\n",
       "      <th></th>\n",
       "      <th></th>\n",
       "      <th></th>\n",
       "      <th></th>\n",
       "      <th></th>\n",
       "      <th></th>\n",
       "      <th></th>\n",
       "      <th></th>\n",
       "      <th></th>\n",
       "      <th></th>\n",
       "      <th></th>\n",
       "      <th></th>\n",
       "      <th></th>\n",
       "      <th></th>\n",
       "      <th></th>\n",
       "      <th></th>\n",
       "      <th></th>\n",
       "      <th></th>\n",
       "      <th></th>\n",
       "      <th></th>\n",
       "      <th></th>\n",
       "    </tr>\n",
       "  </thead>\n",
       "  <tbody>\n",
       "    <tr>\n",
       "      <th>8</th>\n",
       "      <td>0.020310</td>\n",
       "      <td>1.404644</td>\n",
       "      <td>2</td>\n",
       "      <td>485</td>\n",
       "      <td>58.031626</td>\n",
       "      <td>136.879854</td>\n",
       "      <td>91.768298</td>\n",
       "      <td>0.0</td>\n",
       "      <td>0.900892</td>\n",
       "      <td>61.354404</td>\n",
       "      <td>...</td>\n",
       "      <td>33.631748</td>\n",
       "      <td>1.183064</td>\n",
       "      <td>21.745527</td>\n",
       "      <td>92.310423</td>\n",
       "      <td>0.0</td>\n",
       "      <td>29.441536</td>\n",
       "      <td>31.424841</td>\n",
       "      <td>64.0</td>\n",
       "      <td>3.837822</td>\n",
       "      <td>92.455650</td>\n",
       "    </tr>\n",
       "    <tr>\n",
       "      <th>20</th>\n",
       "      <td>0.052137</td>\n",
       "      <td>0.896531</td>\n",
       "      <td>8</td>\n",
       "      <td>158</td>\n",
       "      <td>25.515149</td>\n",
       "      <td>66.451919</td>\n",
       "      <td>0.981479</td>\n",
       "      <td>0.0</td>\n",
       "      <td>16.441283</td>\n",
       "      <td>44.409036</td>\n",
       "      <td>...</td>\n",
       "      <td>11.974452</td>\n",
       "      <td>1.183064</td>\n",
       "      <td>6.580883</td>\n",
       "      <td>0.987277</td>\n",
       "      <td>0.0</td>\n",
       "      <td>11.140041</td>\n",
       "      <td>0.274340</td>\n",
       "      <td>64.0</td>\n",
       "      <td>0.479728</td>\n",
       "      <td>28.379435</td>\n",
       "    </tr>\n",
       "    <tr>\n",
       "      <th>21</th>\n",
       "      <td>0.184267</td>\n",
       "      <td>2.695461</td>\n",
       "      <td>3</td>\n",
       "      <td>1</td>\n",
       "      <td>0.360893</td>\n",
       "      <td>0.501896</td>\n",
       "      <td>0.000000</td>\n",
       "      <td>0.0</td>\n",
       "      <td>0.225223</td>\n",
       "      <td>0.035391</td>\n",
       "      <td>...</td>\n",
       "      <td>0.000000</td>\n",
       "      <td>0.000000</td>\n",
       "      <td>0.071531</td>\n",
       "      <td>0.000000</td>\n",
       "      <td>0.0</td>\n",
       "      <td>0.000000</td>\n",
       "      <td>20.023885</td>\n",
       "      <td>64.0</td>\n",
       "      <td>2.878367</td>\n",
       "      <td>0.791064</td>\n",
       "    </tr>\n",
       "    <tr>\n",
       "      <th>38</th>\n",
       "      <td>0.517168</td>\n",
       "      <td>6.309749</td>\n",
       "      <td>9</td>\n",
       "      <td>216</td>\n",
       "      <td>3.248039</td>\n",
       "      <td>9.101424</td>\n",
       "      <td>0.000000</td>\n",
       "      <td>0.0</td>\n",
       "      <td>2.252231</td>\n",
       "      <td>5.535203</td>\n",
       "      <td>...</td>\n",
       "      <td>0.000000</td>\n",
       "      <td>2.366129</td>\n",
       "      <td>0.286125</td>\n",
       "      <td>0.000000</td>\n",
       "      <td>0.0</td>\n",
       "      <td>0.000000</td>\n",
       "      <td>0.164840</td>\n",
       "      <td>64.0</td>\n",
       "      <td>8.635100</td>\n",
       "      <td>4.845269</td>\n",
       "    </tr>\n",
       "    <tr>\n",
       "      <th>41</th>\n",
       "      <td>0.000000</td>\n",
       "      <td>0.035204</td>\n",
       "      <td>0</td>\n",
       "      <td>6</td>\n",
       "      <td>0.000000</td>\n",
       "      <td>0.000000</td>\n",
       "      <td>0.000000</td>\n",
       "      <td>0.0</td>\n",
       "      <td>0.000000</td>\n",
       "      <td>0.000000</td>\n",
       "      <td>...</td>\n",
       "      <td>0.000000</td>\n",
       "      <td>0.000000</td>\n",
       "      <td>0.000000</td>\n",
       "      <td>0.000000</td>\n",
       "      <td>0.0</td>\n",
       "      <td>0.000000</td>\n",
       "      <td>0.000000</td>\n",
       "      <td>3.0</td>\n",
       "      <td>0.000000</td>\n",
       "      <td>0.000000</td>\n",
       "    </tr>\n",
       "  </tbody>\n",
       "</table>\n",
       "<p>5 rows × 35 columns</p>\n",
       "</div>"
      ],
      "text/plain": [
       "        amount_spent  amount_spent_pmt  boss_monster  class  combat_char_cnt  \\\n",
       "acc_id                                                                         \n",
       "8           0.020310          1.404644             2    485        58.031626   \n",
       "20          0.052137          0.896531             8    158        25.515149   \n",
       "21          0.184267          2.695461             3      1         0.360893   \n",
       "38          0.517168          6.309749             9    216         3.248039   \n",
       "41          0.000000          0.035204             0      6         0.000000   \n",
       "\n",
       "        combat_play_time      death  enchant_count    etc_cnt  etc_cnt_plg  \\\n",
       "acc_id                                                                       \n",
       "8             136.879854  91.768298            0.0   0.900892    61.354404   \n",
       "20             66.451919   0.981479            0.0  16.441283    44.409036   \n",
       "21              0.501896   0.000000            0.0   0.225223     0.035391   \n",
       "38              9.101424   0.000000            0.0   2.252231     5.535203   \n",
       "41              0.000000   0.000000            0.0   0.000000     0.000000   \n",
       "\n",
       "        ...  random_attacker_cnt_plg  random_defender_cnt  \\\n",
       "acc_id  ...                                                 \n",
       "8       ...                33.631748             1.183064   \n",
       "20      ...                11.974452             1.183064   \n",
       "21      ...                 0.000000             0.000000   \n",
       "38      ...                 0.000000             2.366129   \n",
       "41      ...                 0.000000             0.000000   \n",
       "\n",
       "        random_defender_cnt_plg     revive  same_pledge_cnt  \\\n",
       "acc_id                                                        \n",
       "8                     21.745527  92.310423              0.0   \n",
       "20                     6.580883   0.987277              0.0   \n",
       "21                     0.071531   0.000000              0.0   \n",
       "38                     0.286125   0.000000              0.0   \n",
       "41                     0.000000   0.000000              0.0   \n",
       "\n",
       "        same_pledge_cnt_plg   solo_exp  survival_time  temp_cnt  temp_cnt_plg  \n",
       "acc_id                                                                         \n",
       "8                 29.441536  31.424841           64.0  3.837822     92.455650  \n",
       "20                11.140041   0.274340           64.0  0.479728     28.379435  \n",
       "21                 0.000000  20.023885           64.0  2.878367      0.791064  \n",
       "38                 0.000000   0.164840           64.0  8.635100      4.845269  \n",
       "41                 0.000000   0.000000            3.0  0.000000      0.000000  \n",
       "\n",
       "[5 rows x 35 columns]"
      ]
     },
     "execution_count": 3,
     "metadata": {},
     "output_type": "execute_result"
    }
   ],
   "source": [
    "df.head()"
   ]
  },
  {
   "cell_type": "code",
   "execution_count": 4,
   "metadata": {},
   "outputs": [
    {
     "data": {
      "text/plain": [
       "amount_spent               float64\n",
       "amount_spent_pmt           float64\n",
       "boss_monster                 int64\n",
       "class                        int64\n",
       "combat_char_cnt            float64\n",
       "combat_play_time           float64\n",
       "death                      float64\n",
       "enchant_count              float64\n",
       "etc_cnt                    float64\n",
       "etc_cnt_plg                float64\n",
       "exp_recovery               float64\n",
       "fishing                    float64\n",
       "game_money_change          float64\n",
       "level                        int64\n",
       "non_combat_play_time       float64\n",
       "npc_kill                   float64\n",
       "num_opponent               float64\n",
       "party_exp                  float64\n",
       "play_char_cnt              float64\n",
       "playtime                   float64\n",
       "pledge_cnt                 float64\n",
       "pledge_combat_cnt          float64\n",
       "private_shop               float64\n",
       "quest_exp                  float64\n",
       "random_attacker_cnt        float64\n",
       "random_attacker_cnt_plg    float64\n",
       "random_defender_cnt        float64\n",
       "random_defender_cnt_plg    float64\n",
       "revive                     float64\n",
       "same_pledge_cnt            float64\n",
       "same_pledge_cnt_plg        float64\n",
       "solo_exp                   float64\n",
       "survival_time              float64\n",
       "temp_cnt                   float64\n",
       "temp_cnt_plg               float64\n",
       "dtype: object"
      ]
     },
     "execution_count": 4,
     "metadata": {},
     "output_type": "execute_result"
    }
   ],
   "source": [
    "df.dtypes"
   ]
  },
  {
   "cell_type": "code",
   "execution_count": 5,
   "metadata": {},
   "outputs": [
    {
     "data": {
      "text/plain": [
       "34"
      ]
     },
     "execution_count": 5,
     "metadata": {},
     "output_type": "execute_result"
    }
   ],
   "source": [
    "def rmse_expm1(pred, true):\n",
    "    return -np.sqrt(np.mean((np.expm1(pred)-np.expm1(true))**2))\n",
    "\n",
    "def evaluate(x_data, y_data):\n",
    "    model = LGBMRegressor(objective='regression', num_iterations=10**5)\n",
    "    x_train, x_val, y_train, y_val = train_test_split(x_data, y_data, random_state=0)\n",
    "    model.fit(x_train, y_train, eval_set=[(x_val, y_val)], early_stopping_rounds=100, verbose=False)\n",
    "    val_pred = model.predict(x_val)\n",
    "    score = rmse_expm1(val_pred, y_val)\n",
    "    return score\n",
    "\n",
    "def rfe(x_data, y_data, method, ratio=0.9, min_feats=40):\n",
    "    feats = x_data.columns.tolist()\n",
    "    archive = pd.DataFrame(columns=['model', 'n_feats', 'feats', 'score'])\n",
    "    while True:\n",
    "        model = LGBMRegressor(objective='regression', num_iterations=10**5)\n",
    "        x_train, x_val, y_train, y_val = train_test_split(x_data[feats], y_data, random_state=0)\n",
    "        model.fit(x_train, y_train, eval_set=[(x_val, y_val)], early_stopping_rounds=100, verbose=False)\n",
    "        val_pred = model.predict(x_val)\n",
    "        score = rmse_expm1(val_pred, y_val)\n",
    "        n_feats = len(feats)\n",
    "        print(n_feats, score)\n",
    "        archive = archive.append({'model': model, 'n_feats': n_feats, 'feats': feats, 'score': score}, ignore_index=True)\n",
    "        if method == 'basic':\n",
    "            feat_imp = pd.Series(model.feature_importances_, index=feats).sort_values(ascending=False)\n",
    "        elif method == 'perm':\n",
    "            perm = PermutationImportance(model, random_state=0).fit(x_val, y_val)\n",
    "            feat_imp = pd.Series(perm.feature_importances_, index=feats).sort_values(ascending=False)\n",
    "        elif method == 'shap':\n",
    "            explainer = shap.TreeExplainer(model)\n",
    "            shap_values = explainer.shap_values(x_data[feats])\n",
    "            feat_imp = pd.Series(np.abs(shap_values).mean(axis=0), index=feats).sort_values(ascending=False)\n",
    "        next_n_feats = int(n_feats * ratio)\n",
    "        if next_n_feats < min_feats:\n",
    "            break\n",
    "        else:\n",
    "            feats = feat_imp.iloc[:next_n_feats].index.tolist()\n",
    "    return archive\n",
    "\n",
    "feats = [col for col in data.columns if col != 'amount_spent']\n",
    "len(feats)"
   ]
  },
  {
   "cell_type": "code",
   "execution_count": 6,
   "metadata": {},
   "outputs": [
    {
     "data": {
      "text/html": [
       "['class', 'level', 'pledge_cnt', 'random_attacker_cnt', 'random_defender_cnt', 'temp_cnt', 'same_pledge_cnt', 'etc_cnt', 'num_opponent', 'playtime', 'npc_kill', 'solo_exp', 'party_exp', 'quest_exp', 'boss_monster', 'death', 'revive', 'exp_recovery', 'fishing', 'private_shop', 'game_money_change', 'enchant_count', 'amount_spent_pmt', 'play_char_cnt', 'combat_char_cnt', 'pledge_combat_cnt', 'random_attacker_cnt_plg', 'random_defender_cnt_plg', 'same_pledge_cnt_plg', 'temp_cnt_plg', 'etc_cnt_plg', 'combat_play_time', 'non_combat_play_time', 'survival_time']"
      ],
      "text/plain": [
       "['class',\n",
       " 'level',\n",
       " 'pledge_cnt',\n",
       " 'random_attacker_cnt',\n",
       " 'random_defender_cnt',\n",
       " 'temp_cnt',\n",
       " 'same_pledge_cnt',\n",
       " 'etc_cnt',\n",
       " 'num_opponent',\n",
       " 'playtime',\n",
       " 'npc_kill',\n",
       " 'solo_exp',\n",
       " 'party_exp',\n",
       " 'quest_exp',\n",
       " 'boss_monster',\n",
       " 'death',\n",
       " 'revive',\n",
       " 'exp_recovery',\n",
       " 'fishing',\n",
       " 'private_shop',\n",
       " 'game_money_change',\n",
       " 'enchant_count',\n",
       " 'amount_spent_pmt',\n",
       " 'play_char_cnt',\n",
       " 'combat_char_cnt',\n",
       " 'pledge_combat_cnt',\n",
       " 'random_attacker_cnt_plg',\n",
       " 'random_defender_cnt_plg',\n",
       " 'same_pledge_cnt_plg',\n",
       " 'temp_cnt_plg',\n",
       " 'etc_cnt_plg',\n",
       " 'combat_play_time',\n",
       " 'non_combat_play_time',\n",
       " 'survival_time']"
      ]
     },
     "execution_count": 6,
     "metadata": {},
     "output_type": "execute_result"
    }
   ],
   "source": [
    "feats"
   ]
  },
  {
   "cell_type": "code",
   "execution_count": 7,
   "metadata": {},
   "outputs": [
    {
     "data": {
      "text/plain": [
       "-53230503152033.4"
      ]
     },
     "execution_count": 7,
     "metadata": {},
     "output_type": "execute_result"
    }
   ],
   "source": [
    "model = LGBMRegressor(objective='regression', num_iterations=10**5)\n",
    "x_data = data[feats]\n",
    "y_data = data['amount_spent']\n",
    "x_train, x_val, y_train, y_val = train_test_split(x_data, y_data, random_state=0)\n",
    "model.fit(x_train, y_train, eval_set=[(x_val, y_val)], early_stopping_rounds=100, verbose=False)\n",
    "val_pred = model.predict(x_val)\n",
    "score = rmse_expm1(val_pred, y_val)\n",
    "score"
   ]
  },
  {
   "cell_type": "code",
   "execution_count": 8,
   "metadata": {},
   "outputs": [
    {
     "name": "stdout",
     "output_type": "stream",
     "text": [
      "34 -53230503152033.4\n",
      "Wall time: 581 ms\n"
     ]
    }
   ],
   "source": [
    "%%time\n",
    "basic_archive = rfe(x_data, y_data, 'basic')"
   ]
  },
  {
   "cell_type": "code",
   "execution_count": 9,
   "metadata": {
    "scrolled": true
   },
   "outputs": [
    {
     "name": "stdout",
     "output_type": "stream",
     "text": [
      "40 -53230503152033.4\n",
      "45 -53230503152033.4\n",
      "50 -53230503152033.4\n",
      "55 -53230503152033.4\n",
      "60 -53230503152033.4\n",
      "65 -53230503152033.4\n",
      "70 -53230503152033.4\n",
      "75 -53230503152033.4\n",
      "80 -53230503152033.4\n",
      "85 -53230503152033.4\n"
     ]
    }
   ],
   "source": [
    "feat_imp = pd.Series(model.feature_importances_, index=feats).sort_values(ascending=False)\n",
    "for i in range(40, 90, 5):\n",
    "    print(i, evaluate(data[feat_imp.iloc[:i].index], data['amount_spent']))"
   ]
  },
  {
   "cell_type": "code",
   "execution_count": 10,
   "metadata": {},
   "outputs": [
    {
     "name": "stdout",
     "output_type": "stream",
     "text": [
      "34 -53230503152033.4\n",
      "Wall time: 5.19 s\n"
     ]
    }
   ],
   "source": [
    "%%time\n",
    "perm_archive = rfe(x_data, y_data, 'perm')"
   ]
  },
  {
   "cell_type": "code",
   "execution_count": 11,
   "metadata": {},
   "outputs": [
    {
     "data": {
      "text/html": [
       "\n",
       "    <style>\n",
       "    table.eli5-weights tr:hover {\n",
       "        filter: brightness(85%);\n",
       "    }\n",
       "</style>\n",
       "\n",
       "\n",
       "\n",
       "    \n",
       "\n",
       "    \n",
       "\n",
       "    \n",
       "\n",
       "    \n",
       "\n",
       "    \n",
       "\n",
       "    \n",
       "\n",
       "\n",
       "    \n",
       "\n",
       "    \n",
       "\n",
       "    \n",
       "\n",
       "    \n",
       "\n",
       "    \n",
       "\n",
       "    \n",
       "\n",
       "\n",
       "    \n",
       "\n",
       "    \n",
       "\n",
       "    \n",
       "\n",
       "    \n",
       "\n",
       "    \n",
       "        <table class=\"eli5-weights eli5-feature-importances\" style=\"border-collapse: collapse; border: none; margin-top: 0em; table-layout: auto;\">\n",
       "    <thead>\n",
       "    <tr style=\"border: none;\">\n",
       "        <th style=\"padding: 0 1em 0 0.5em; text-align: right; border: none;\">Weight</th>\n",
       "        <th style=\"padding: 0 0.5em 0 0.5em; text-align: left; border: none;\">Feature</th>\n",
       "    </tr>\n",
       "    </thead>\n",
       "    <tbody>\n",
       "    \n",
       "        <tr style=\"background-color: hsl(120, 100.00%, 80.00%); border: none;\">\n",
       "            <td style=\"padding: 0 1em 0 0.5em; text-align: right; border: none;\">\n",
       "                0.3249\n",
       "                \n",
       "                    &plusmn; 0.0392\n",
       "                \n",
       "            </td>\n",
       "            <td style=\"padding: 0 0.5em 0 0.5em; text-align: left; border: none;\">\n",
       "                x33\n",
       "            </td>\n",
       "        </tr>\n",
       "    \n",
       "        <tr style=\"background-color: hsl(120, 100.00%, 91.53%); border: none;\">\n",
       "            <td style=\"padding: 0 1em 0 0.5em; text-align: right; border: none;\">\n",
       "                0.0952\n",
       "                \n",
       "                    &plusmn; 0.0867\n",
       "                \n",
       "            </td>\n",
       "            <td style=\"padding: 0 0.5em 0 0.5em; text-align: left; border: none;\">\n",
       "                x22\n",
       "            </td>\n",
       "        </tr>\n",
       "    \n",
       "        <tr style=\"background-color: hsl(120, 100.00%, 93.89%); border: none;\">\n",
       "            <td style=\"padding: 0 1em 0 0.5em; text-align: right; border: none;\">\n",
       "                0.0597\n",
       "                \n",
       "                    &plusmn; 0.0299\n",
       "                \n",
       "            </td>\n",
       "            <td style=\"padding: 0 0.5em 0 0.5em; text-align: left; border: none;\">\n",
       "                x11\n",
       "            </td>\n",
       "        </tr>\n",
       "    \n",
       "        <tr style=\"background-color: hsl(120, 100.00%, 95.53%); border: none;\">\n",
       "            <td style=\"padding: 0 1em 0 0.5em; text-align: right; border: none;\">\n",
       "                0.0382\n",
       "                \n",
       "                    &plusmn; 0.0133\n",
       "                \n",
       "            </td>\n",
       "            <td style=\"padding: 0 0.5em 0 0.5em; text-align: left; border: none;\">\n",
       "                x9\n",
       "            </td>\n",
       "        </tr>\n",
       "    \n",
       "        <tr style=\"background-color: hsl(120, 100.00%, 97.29%); border: none;\">\n",
       "            <td style=\"padding: 0 1em 0 0.5em; text-align: right; border: none;\">\n",
       "                0.0187\n",
       "                \n",
       "                    &plusmn; 0.0025\n",
       "                \n",
       "            </td>\n",
       "            <td style=\"padding: 0 0.5em 0 0.5em; text-align: left; border: none;\">\n",
       "                x1\n",
       "            </td>\n",
       "        </tr>\n",
       "    \n",
       "        <tr style=\"background-color: hsl(120, 100.00%, 98.29%); border: none;\">\n",
       "            <td style=\"padding: 0 1em 0 0.5em; text-align: right; border: none;\">\n",
       "                0.0097\n",
       "                \n",
       "                    &plusmn; 0.0039\n",
       "                \n",
       "            </td>\n",
       "            <td style=\"padding: 0 0.5em 0 0.5em; text-align: left; border: none;\">\n",
       "                x0\n",
       "            </td>\n",
       "        </tr>\n",
       "    \n",
       "        <tr style=\"background-color: hsl(120, 100.00%, 98.41%); border: none;\">\n",
       "            <td style=\"padding: 0 1em 0 0.5em; text-align: right; border: none;\">\n",
       "                0.0087\n",
       "                \n",
       "                    &plusmn; 0.0149\n",
       "                \n",
       "            </td>\n",
       "            <td style=\"padding: 0 0.5em 0 0.5em; text-align: left; border: none;\">\n",
       "                x10\n",
       "            </td>\n",
       "        </tr>\n",
       "    \n",
       "        <tr style=\"background-color: hsl(120, 100.00%, 99.05%); border: none;\">\n",
       "            <td style=\"padding: 0 1em 0 0.5em; text-align: right; border: none;\">\n",
       "                0.0042\n",
       "                \n",
       "                    &plusmn; 0.0052\n",
       "                \n",
       "            </td>\n",
       "            <td style=\"padding: 0 0.5em 0 0.5em; text-align: left; border: none;\">\n",
       "                x27\n",
       "            </td>\n",
       "        </tr>\n",
       "    \n",
       "        <tr style=\"background-color: hsl(120, 100.00%, 99.17%); border: none;\">\n",
       "            <td style=\"padding: 0 1em 0 0.5em; text-align: right; border: none;\">\n",
       "                0.0034\n",
       "                \n",
       "                    &plusmn; 0.0031\n",
       "                \n",
       "            </td>\n",
       "            <td style=\"padding: 0 0.5em 0 0.5em; text-align: left; border: none;\">\n",
       "                x28\n",
       "            </td>\n",
       "        </tr>\n",
       "    \n",
       "        <tr style=\"background-color: hsl(120, 100.00%, 99.19%); border: none;\">\n",
       "            <td style=\"padding: 0 1em 0 0.5em; text-align: right; border: none;\">\n",
       "                0.0033\n",
       "                \n",
       "                    &plusmn; 0.0023\n",
       "                \n",
       "            </td>\n",
       "            <td style=\"padding: 0 0.5em 0 0.5em; text-align: left; border: none;\">\n",
       "                x18\n",
       "            </td>\n",
       "        </tr>\n",
       "    \n",
       "        <tr style=\"background-color: hsl(120, 100.00%, 99.34%); border: none;\">\n",
       "            <td style=\"padding: 0 1em 0 0.5em; text-align: right; border: none;\">\n",
       "                0.0025\n",
       "                \n",
       "                    &plusmn; 0.0014\n",
       "                \n",
       "            </td>\n",
       "            <td style=\"padding: 0 0.5em 0 0.5em; text-align: left; border: none;\">\n",
       "                x25\n",
       "            </td>\n",
       "        </tr>\n",
       "    \n",
       "        <tr style=\"background-color: hsl(120, 100.00%, 99.58%); border: none;\">\n",
       "            <td style=\"padding: 0 1em 0 0.5em; text-align: right; border: none;\">\n",
       "                0.0013\n",
       "                \n",
       "                    &plusmn; 0.0008\n",
       "                \n",
       "            </td>\n",
       "            <td style=\"padding: 0 0.5em 0 0.5em; text-align: left; border: none;\">\n",
       "                x4\n",
       "            </td>\n",
       "        </tr>\n",
       "    \n",
       "        <tr style=\"background-color: hsl(120, 100.00%, 99.60%); border: none;\">\n",
       "            <td style=\"padding: 0 1em 0 0.5em; text-align: right; border: none;\">\n",
       "                0.0012\n",
       "                \n",
       "                    &plusmn; 0.0071\n",
       "                \n",
       "            </td>\n",
       "            <td style=\"padding: 0 0.5em 0 0.5em; text-align: left; border: none;\">\n",
       "                x30\n",
       "            </td>\n",
       "        </tr>\n",
       "    \n",
       "        <tr style=\"background-color: hsl(120, 100.00%, 99.66%); border: none;\">\n",
       "            <td style=\"padding: 0 1em 0 0.5em; text-align: right; border: none;\">\n",
       "                0.0010\n",
       "                \n",
       "                    &plusmn; 0.0016\n",
       "                \n",
       "            </td>\n",
       "            <td style=\"padding: 0 0.5em 0 0.5em; text-align: left; border: none;\">\n",
       "                x12\n",
       "            </td>\n",
       "        </tr>\n",
       "    \n",
       "        <tr style=\"background-color: hsl(120, 100.00%, 99.81%); border: none;\">\n",
       "            <td style=\"padding: 0 1em 0 0.5em; text-align: right; border: none;\">\n",
       "                0.0004\n",
       "                \n",
       "                    &plusmn; 0.0008\n",
       "                \n",
       "            </td>\n",
       "            <td style=\"padding: 0 0.5em 0 0.5em; text-align: left; border: none;\">\n",
       "                x7\n",
       "            </td>\n",
       "        </tr>\n",
       "    \n",
       "        <tr style=\"background-color: hsl(120, 100.00%, 99.82%); border: none;\">\n",
       "            <td style=\"padding: 0 1em 0 0.5em; text-align: right; border: none;\">\n",
       "                0.0004\n",
       "                \n",
       "                    &plusmn; 0.0064\n",
       "                \n",
       "            </td>\n",
       "            <td style=\"padding: 0 0.5em 0 0.5em; text-align: left; border: none;\">\n",
       "                x31\n",
       "            </td>\n",
       "        </tr>\n",
       "    \n",
       "        <tr style=\"background-color: hsl(120, 100.00%, 99.83%); border: none;\">\n",
       "            <td style=\"padding: 0 1em 0 0.5em; text-align: right; border: none;\">\n",
       "                0.0003\n",
       "                \n",
       "                    &plusmn; 0.0029\n",
       "                \n",
       "            </td>\n",
       "            <td style=\"padding: 0 0.5em 0 0.5em; text-align: left; border: none;\">\n",
       "                x14\n",
       "            </td>\n",
       "        </tr>\n",
       "    \n",
       "        <tr style=\"background-color: hsl(120, 100.00%, 99.87%); border: none;\">\n",
       "            <td style=\"padding: 0 1em 0 0.5em; text-align: right; border: none;\">\n",
       "                0.0002\n",
       "                \n",
       "                    &plusmn; 0.0008\n",
       "                \n",
       "            </td>\n",
       "            <td style=\"padding: 0 0.5em 0 0.5em; text-align: left; border: none;\">\n",
       "                x8\n",
       "            </td>\n",
       "        </tr>\n",
       "    \n",
       "        <tr style=\"background-color: hsl(120, 100.00%, 99.89%); border: none;\">\n",
       "            <td style=\"padding: 0 1em 0 0.5em; text-align: right; border: none;\">\n",
       "                0.0002\n",
       "                \n",
       "                    &plusmn; 0.0024\n",
       "                \n",
       "            </td>\n",
       "            <td style=\"padding: 0 0.5em 0 0.5em; text-align: left; border: none;\">\n",
       "                x19\n",
       "            </td>\n",
       "        </tr>\n",
       "    \n",
       "        <tr style=\"background-color: hsl(120, 100.00%, 99.89%); border: none;\">\n",
       "            <td style=\"padding: 0 1em 0 0.5em; text-align: right; border: none;\">\n",
       "                0.0002\n",
       "                \n",
       "                    &plusmn; 0.0007\n",
       "                \n",
       "            </td>\n",
       "            <td style=\"padding: 0 0.5em 0 0.5em; text-align: left; border: none;\">\n",
       "                x6\n",
       "            </td>\n",
       "        </tr>\n",
       "    \n",
       "    \n",
       "        \n",
       "            <tr style=\"background-color: hsl(120, 100.00%, 99.89%); border: none;\">\n",
       "                <td colspan=\"2\" style=\"padding: 0 0.5em 0 0.5em; text-align: center; border: none; white-space: nowrap;\">\n",
       "                    <i>&hellip; 14 more &hellip;</i>\n",
       "                </td>\n",
       "            </tr>\n",
       "        \n",
       "    \n",
       "    </tbody>\n",
       "</table>\n",
       "    \n",
       "\n",
       "    \n",
       "\n",
       "\n",
       "    \n",
       "\n",
       "    \n",
       "\n",
       "    \n",
       "\n",
       "    \n",
       "\n",
       "    \n",
       "\n",
       "    \n",
       "\n",
       "\n",
       "\n"
      ],
      "text/plain": [
       "<IPython.core.display.HTML object>"
      ]
     },
     "execution_count": 11,
     "metadata": {},
     "output_type": "execute_result"
    }
   ],
   "source": [
    "perm = PermutationImportance(model, random_state=0).fit(x_val, y_val)\n",
    "perm_feat_imp = pd.Series(perm.feature_importances_, index=feats).sort_values(ascending=False)\n",
    "eli5.show_weights(perm)"
   ]
  },
  {
   "cell_type": "code",
   "execution_count": 12,
   "metadata": {},
   "outputs": [
    {
     "name": "stdout",
     "output_type": "stream",
     "text": [
      "40 -53230503152033.4\n",
      "45 -53230503152033.4\n",
      "50 -53230503152033.4\n",
      "55 -53230503152033.4\n",
      "60 -53230503152033.4\n",
      "65 -53230503152033.4\n",
      "70 -53230503152033.4\n",
      "75 -53230503152033.4\n",
      "80 -53230503152033.4\n",
      "85 -53230503152033.4\n"
     ]
    }
   ],
   "source": [
    "for i in range(40, 90, 5):\n",
    "    print(i, evaluate(data[perm_feat_imp.iloc[:i].index], data['amount_spent']))"
   ]
  },
  {
   "cell_type": "code",
   "execution_count": 13,
   "metadata": {},
   "outputs": [
    {
     "name": "stdout",
     "output_type": "stream",
     "text": [
      "34 -53230503152033.4\n",
      "Wall time: 1.57 s\n"
     ]
    }
   ],
   "source": [
    "%%time\n",
    "shap_archive = rfe(x_data, y_data, 'shap')"
   ]
  },
  {
   "cell_type": "code",
   "execution_count": 14,
   "metadata": {
    "scrolled": true
   },
   "outputs": [
    {
     "data": {
      "image/png": "[encoded data removed]",
      "text/plain": [
       "<Figure size 576x684 with 2 Axes>"
      ]
     },
     "metadata": {
      "needs_background": "light"
     },
     "output_type": "display_data"
    }
   ],
   "source": [
    "explainer = shap.TreeExplainer(model)\n",
    "shap_values = explainer.shap_values(x_data)\n",
    "shap_feat_imp = pd.Series(np.abs(shap_values).mean(axis=0), index=feats).sort_values(ascending=False)\n",
    "shap.summary_plot(shap_values, x_data)"
   ]
  },
  {
   "cell_type": "code",
   "execution_count": 15,
   "metadata": {},
   "outputs": [
    {
     "name": "stdout",
     "output_type": "stream",
     "text": [
      "40 -53230503152033.4\n",
      "45 -53230503152033.4\n",
      "50 -53230503152033.4\n",
      "55 -53230503152033.4\n",
      "60 -53230503152033.4\n",
      "65 -53230503152033.4\n",
      "70 -53230503152033.4\n",
      "75 -53230503152033.4\n",
      "80 -53230503152033.4\n",
      "85 -53230503152033.4\n"
     ]
    }
   ],
   "source": [
    "for i in range(40, 90, 5):\n",
    "    print(i, evaluate(data[shap_feat_imp.iloc[:i].index], data['amount_spent']))"
   ]
  },
  {
   "cell_type": "code",
   "execution_count": 16,
   "metadata": {},
   "outputs": [
    {
     "data": {
      "image/png": "[encoded data removed]",
      "text/plain": [
       "<Figure size 1440x720 with 1 Axes>"
      ]
     },
     "metadata": {
      "needs_background": "light"
     },
     "output_type": "display_data"
    }
   ],
   "source": [
    "feat_imp_archive = pd.DataFrame(index=feats, columns=['basic', 'perm', 'shap', 'mean'])\n",
    "feat_imp_archive['basic'] = feat_imp.rank(ascending=False)\n",
    "feat_imp_archive['perm'] = perm_feat_imp.rank(ascending=False)\n",
    "feat_imp_archive['shap'] = shap_feat_imp.rank(ascending=False)\n",
    "feat_imp_archive['mean'] = feat_imp_archive[['basic', 'perm', 'shap']].mean(axis=1)\n",
    "feat_imp_archive = feat_imp_archive.sort_values('mean')\n",
    "feat_imp_archive[feat_imp_archive['mean']<20].plot(kind='bar', figsize=(20, 10), title='feature importance rankings');"
   ]
  },
  {
   "cell_type": "code",
   "execution_count": 17,
   "metadata": {},
   "outputs": [
    {
     "name": "stdout",
     "output_type": "stream",
     "text": [
      "40 -53230503152033.4\n",
      "45 -53230503152033.4\n",
      "50 -53230503152033.4\n",
      "55 -53230503152033.4\n",
      "60 -53230503152033.4\n",
      "65 -53230503152033.4\n",
      "70 -53230503152033.4\n",
      "75 -53230503152033.4\n",
      "80 -53230503152033.4\n",
      "85 -53230503152033.4\n"
     ]
    }
   ],
   "source": [
    "for i in range(40, 90, 5):\n",
    "    print(i, evaluate(data[feat_imp_archive.iloc[:i].index], data['amount_spent']))"
   ]
  },
  {
   "cell_type": "code",
   "execution_count": 18,
   "metadata": {},
   "outputs": [
    {
     "name": "stdout",
     "output_type": "stream",
     "text": [
      "Wall time: 1min 21s\n"
     ]
    },
    {
     "data": {
      "text/plain": [
       "BorutaPy(alpha=0.05,\n",
       "         estimator=RandomForestRegressor(bootstrap=True, criterion='mse',\n",
       "                                         max_depth=5, max_features='auto',\n",
       "                                         max_leaf_nodes=None,\n",
       "                                         min_impurity_decrease=0.0,\n",
       "                                         min_impurity_split=None,\n",
       "                                         min_samples_leaf=1,\n",
       "                                         min_samples_split=2,\n",
       "                                         min_weight_fraction_leaf=0.0,\n",
       "                                         n_estimators=63, n_jobs=-1,\n",
       "                                         oob_score=False,\n",
       "                                         random_state=<mtrand.RandomState object at 0x000002315163D5A0>,\n",
       "                                         verbose=0, warm_start=False),\n",
       "         max_iter=100, n_estimators='auto', perc=100,\n",
       "         random_state=<mtrand.RandomState object at 0x000002315163D5A0>,\n",
       "         two_step=True, verbose=0)"
      ]
     },
     "execution_count": 18,
     "metadata": {},
     "output_type": "execute_result"
    }
   ],
   "source": [
    "%%time\n",
    "rf = RandomForestRegressor(n_jobs=-1, n_estimators=200, max_depth=5)\n",
    "feat_selector = BorutaPy(rf, n_estimators='auto', verbose=0, random_state=0)\n",
    "feat_selector.fit(data[feats].values, data['amount_spent'].values)"
   ]
  },
  {
   "cell_type": "code",
   "execution_count": 19,
   "metadata": {},
   "outputs": [
    {
     "data": {
      "text/plain": [
       "-53230503152032.0"
      ]
     },
     "execution_count": 19,
     "metadata": {},
     "output_type": "execute_result"
    }
   ],
   "source": [
    "evaluate(data[np.array(feats)[feat_selector.support_]], data['amount_spent'])"
   ]
  },
  {
   "cell_type": "code",
   "execution_count": null,
   "metadata": {},
   "outputs": [],
   "source": []
  },
  {
   "cell_type": "code",
   "execution_count": 20,
   "metadata": {},
   "outputs": [],
   "source": [
    "\n",
    "import numpy as np\n",
    "\n",
    "import pandas as pd\n",
    "\n",
    "\n",
    "\n",
    "import keras\n",
    "\n",
    "import tensorflow as tf\n",
    "\n",
    "from IPython.display import display\n",
    "\n",
    "import PIL\n",
    "\n",
    " "
   ]
  },
  {
   "cell_type": "code",
   "execution_count": 21,
   "metadata": {},
   "outputs": [
    {
     "name": "stdout",
     "output_type": "stream",
     "text": [
      "[name: \"/device:CPU:0\"\n",
      "device_type: \"CPU\"\n",
      "memory_limit: 268435456\n",
      "locality {\n",
      "}\n",
      "incarnation: 11105396212337651407\n",
      ", name: \"/device:GPU:0\"\n",
      "device_type: \"GPU\"\n",
      "memory_limit: 4945621811\n",
      "locality {\n",
      "  bus_id: 1\n",
      "  links {\n",
      "  }\n",
      "}\n",
      "incarnation: 6084542759300891263\n",
      "physical_device_desc: \"device: 0, name: GeForce GTX 1060, pci bus id: 0000:01:00.0, compute capability: 6.1\"\n",
      "]\n"
     ]
    }
   ],
   "source": [
    "from tensorflow.python.client import device_lib\n",
    "\n",
    "print(device_lib.list_local_devices())"
   ]
  },
  {
   "cell_type": "code",
   "execution_count": 22,
   "metadata": {},
   "outputs": [
    {
     "data": {
      "text/html": [
       "['/job:localhost/replica:0/task:0/device:GPU:0']"
      ],
      "text/plain": [
       "['/job:localhost/replica:0/task:0/device:GPU:0']"
      ]
     },
     "execution_count": 22,
     "metadata": {},
     "output_type": "execute_result"
    }
   ],
   "source": [
    "from keras import backend as K\n",
    "\n",
    "K.tensorflow_backend._get_available_gpus()"
   ]
  },
  {
   "cell_type": "code",
   "execution_count": 23,
   "metadata": {},
   "outputs": [],
   "source": [
    "# # gpu_test.py\n",
    "\n",
    "# import sys\n",
    "# import numpy as np\n",
    "# import tensorflow as tf\n",
    "# from datetime import datetime\n",
    "\n",
    "# shape = (int(10000), int(10000))\n",
    "\n",
    "# # with tf.device(\"/cpu:0\"):\n",
    "# with tf.device(\"/gpu:0\"):\n",
    "#     random_matrix = tf.random_uniform(shape=shape, minval=0, maxval=1)\n",
    "#     dot_operation = tf.matmul(random_matrix, tf.transpose(random_matrix))\n",
    "#     sum_operation = tf.reduce_sum(dot_operation)\n",
    "\n",
    "# startTime = datetime.now()\n",
    "# with tf.Session(config=tf.ConfigProto(log_device_placement=True)) as session:\n",
    "#     result = session.run(sum_operation)\n",
    "#     print(result)\n",
    "\n",
    "# print(\"\\n\" * 2)\n",
    "# print(\"Time taken:\", datetime.now() - startTime)\n",
    "# print(\"\\n\" * 2)"
   ]
  },
  {
   "cell_type": "code",
   "execution_count": null,
   "metadata": {},
   "outputs": [],
   "source": []
  }
 ],
 "metadata": {
  "kernelspec": {
   "display_name": "Python 3",
   "language": "python",
   "name": "python3"
  },
  "language_info": {
   "codemirror_mode": {
    "name": "ipython",
    "version": 3
   },
   "file_extension": ".py",
   "mimetype": "text/x-python",
   "name": "python",
   "nbconvert_exporter": "python",
   "pygments_lexer": "ipython3",
   "version": "3.7.3"
  }
 },
 "nbformat": 4,
 "nbformat_minor": 2
}
