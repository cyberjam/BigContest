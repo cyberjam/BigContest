{
 "cells": [
  {
   "cell_type": "code",
   "execution_count": 2,
   "metadata": {},
   "outputs": [],
   "source": [
    "import pandas as pd"
   ]
  },
  {
   "cell_type": "code",
   "execution_count": 3,
   "metadata": {},
   "outputs": [],
   "source": [
    "act = pd.read_csv('../BigconData/train_pledge.csv')"
   ]
  },
  {
   "cell_type": "code",
   "execution_count": 4,
   "metadata": {
    "scrolled": true
   },
   "outputs": [
    {
     "data": {
      "text/html": [
       "<div>\n",
       "<style scoped>\n",
       "    .dataframe tbody tr th:only-of-type {\n",
       "        vertical-align: middle;\n",
       "    }\n",
       "\n",
       "    .dataframe tbody tr th {\n",
       "        vertical-align: top;\n",
       "    }\n",
       "\n",
       "    .dataframe thead th {\n",
       "        text-align: right;\n",
       "    }\n",
       "</style>\n",
       "<table border=\"1\" class=\"dataframe\">\n",
       "  <thead>\n",
       "    <tr style=\"text-align: right;\">\n",
       "      <th></th>\n",
       "      <th>day</th>\n",
       "      <th>acc_id</th>\n",
       "      <th>char_id</th>\n",
       "      <th>server</th>\n",
       "      <th>pledge_id</th>\n",
       "      <th>play_char_cnt</th>\n",
       "      <th>combat_char_cnt</th>\n",
       "      <th>pledge_combat_cnt</th>\n",
       "      <th>random_attacker_cnt</th>\n",
       "      <th>random_defender_cnt</th>\n",
       "      <th>same_pledge_cnt</th>\n",
       "      <th>temp_cnt</th>\n",
       "      <th>etc_cnt</th>\n",
       "      <th>combat_play_time</th>\n",
       "      <th>non_combat_play_time</th>\n",
       "    </tr>\n",
       "  </thead>\n",
       "  <tbody>\n",
       "    <tr>\n",
       "      <th>0</th>\n",
       "      <td>1</td>\n",
       "      <td>106660</td>\n",
       "      <td>345122</td>\n",
       "      <td>aa</td>\n",
       "      <td>381</td>\n",
       "      <td>0.036089</td>\n",
       "      <td>0.036089</td>\n",
       "      <td>0.0</td>\n",
       "      <td>0.0</td>\n",
       "      <td>0.0</td>\n",
       "      <td>0.0</td>\n",
       "      <td>0.000000</td>\n",
       "      <td>0.007078</td>\n",
       "      <td>0.027568</td>\n",
       "      <td>0.000000</td>\n",
       "    </tr>\n",
       "    <tr>\n",
       "      <th>1</th>\n",
       "      <td>1</td>\n",
       "      <td>46383</td>\n",
       "      <td>161773</td>\n",
       "      <td>aa</td>\n",
       "      <td>10892</td>\n",
       "      <td>0.036089</td>\n",
       "      <td>0.000000</td>\n",
       "      <td>0.0</td>\n",
       "      <td>0.0</td>\n",
       "      <td>0.0</td>\n",
       "      <td>0.0</td>\n",
       "      <td>0.000000</td>\n",
       "      <td>0.000000</td>\n",
       "      <td>0.000000</td>\n",
       "      <td>0.006139</td>\n",
       "    </tr>\n",
       "    <tr>\n",
       "      <th>2</th>\n",
       "      <td>1</td>\n",
       "      <td>18495</td>\n",
       "      <td>321373</td>\n",
       "      <td>aa</td>\n",
       "      <td>13705</td>\n",
       "      <td>0.036089</td>\n",
       "      <td>0.000000</td>\n",
       "      <td>0.0</td>\n",
       "      <td>0.0</td>\n",
       "      <td>0.0</td>\n",
       "      <td>0.0</td>\n",
       "      <td>0.000000</td>\n",
       "      <td>0.000000</td>\n",
       "      <td>0.000000</td>\n",
       "      <td>0.000347</td>\n",
       "    </tr>\n",
       "    <tr>\n",
       "      <th>3</th>\n",
       "      <td>1</td>\n",
       "      <td>118293</td>\n",
       "      <td>366707</td>\n",
       "      <td>aa</td>\n",
       "      <td>2982</td>\n",
       "      <td>0.036089</td>\n",
       "      <td>0.000000</td>\n",
       "      <td>0.0</td>\n",
       "      <td>0.0</td>\n",
       "      <td>0.0</td>\n",
       "      <td>0.0</td>\n",
       "      <td>0.000000</td>\n",
       "      <td>0.000000</td>\n",
       "      <td>0.000000</td>\n",
       "      <td>0.001042</td>\n",
       "    </tr>\n",
       "    <tr>\n",
       "      <th>4</th>\n",
       "      <td>1</td>\n",
       "      <td>50421</td>\n",
       "      <td>158063</td>\n",
       "      <td>aa</td>\n",
       "      <td>27104</td>\n",
       "      <td>0.216536</td>\n",
       "      <td>0.072179</td>\n",
       "      <td>0.0</td>\n",
       "      <td>0.0</td>\n",
       "      <td>0.0</td>\n",
       "      <td>0.0</td>\n",
       "      <td>0.098883</td>\n",
       "      <td>0.056626</td>\n",
       "      <td>0.083978</td>\n",
       "      <td>0.000000</td>\n",
       "    </tr>\n",
       "  </tbody>\n",
       "</table>\n",
       "</div>"
      ],
      "text/plain": [
       "   day  acc_id  char_id server  pledge_id  play_char_cnt  combat_char_cnt  \\\n",
       "0    1  106660   345122     aa        381       0.036089         0.036089   \n",
       "1    1   46383   161773     aa      10892       0.036089         0.000000   \n",
       "2    1   18495   321373     aa      13705       0.036089         0.000000   \n",
       "3    1  118293   366707     aa       2982       0.036089         0.000000   \n",
       "4    1   50421   158063     aa      27104       0.216536         0.072179   \n",
       "\n",
       "   pledge_combat_cnt  random_attacker_cnt  random_defender_cnt  \\\n",
       "0                0.0                  0.0                  0.0   \n",
       "1                0.0                  0.0                  0.0   \n",
       "2                0.0                  0.0                  0.0   \n",
       "3                0.0                  0.0                  0.0   \n",
       "4                0.0                  0.0                  0.0   \n",
       "\n",
       "   same_pledge_cnt  temp_cnt   etc_cnt  combat_play_time  non_combat_play_time  \n",
       "0              0.0  0.000000  0.007078          0.027568              0.000000  \n",
       "1              0.0  0.000000  0.000000          0.000000              0.006139  \n",
       "2              0.0  0.000000  0.000000          0.000000              0.000347  \n",
       "3              0.0  0.000000  0.000000          0.000000              0.001042  \n",
       "4              0.0  0.098883  0.056626          0.083978              0.000000  "
      ]
     },
     "execution_count": 4,
     "metadata": {},
     "output_type": "execute_result"
    }
   ],
   "source": [
    "act.head()"
   ]
  },
  {
   "cell_type": "code",
   "execution_count": 14,
   "metadata": {},
   "outputs": [
    {
     "data": {
      "text/plain": [
       "['play_char_cnt',\n",
       " 'combat_char_cnt',\n",
       " 'pledge_combat_cnt',\n",
       " 'random_attacker_cnt',\n",
       " 'random_defender_cnt',\n",
       " 'same_pledge_cnt',\n",
       " 'temp_cnt',\n",
       " 'etc_cnt',\n",
       " 'combat_play_time',\n",
       " 'non_combat_play_time']"
      ]
     },
     "execution_count": 14,
     "metadata": {},
     "output_type": "execute_result"
    }
   ],
   "source": [
    "type(list(act.columns))\n",
    "cols = list(act.columns)\n",
    "del cols[0:5]\n",
    "cols"
   ]
  },
  {
   "cell_type": "code",
   "execution_count": 16,
   "metadata": {},
   "outputs": [
    {
     "data": {
      "text/html": [
       "<div>\n",
       "<style scoped>\n",
       "    .dataframe tbody tr th:only-of-type {\n",
       "        vertical-align: middle;\n",
       "    }\n",
       "\n",
       "    .dataframe tbody tr th {\n",
       "        vertical-align: top;\n",
       "    }\n",
       "\n",
       "    .dataframe thead th {\n",
       "        text-align: right;\n",
       "    }\n",
       "</style>\n",
       "<table border=\"1\" class=\"dataframe\">\n",
       "  <thead>\n",
       "    <tr style=\"text-align: right;\">\n",
       "      <th></th>\n",
       "      <th>play_char_cnt</th>\n",
       "      <th>combat_char_cnt</th>\n",
       "      <th>pledge_combat_cnt</th>\n",
       "      <th>random_attacker_cnt</th>\n",
       "      <th>random_defender_cnt</th>\n",
       "      <th>same_pledge_cnt</th>\n",
       "      <th>temp_cnt</th>\n",
       "      <th>etc_cnt</th>\n",
       "      <th>combat_play_time</th>\n",
       "      <th>non_combat_play_time</th>\n",
       "    </tr>\n",
       "  </thead>\n",
       "  <tbody>\n",
       "    <tr>\n",
       "      <th>count</th>\n",
       "      <td>1.083384e+06</td>\n",
       "      <td>1.083384e+06</td>\n",
       "      <td>1.083384e+06</td>\n",
       "      <td>1.083384e+06</td>\n",
       "      <td>1.083384e+06</td>\n",
       "      <td>1.083384e+06</td>\n",
       "      <td>1.083384e+06</td>\n",
       "      <td>1.083384e+06</td>\n",
       "      <td>1.083384e+06</td>\n",
       "      <td>1.083384e+06</td>\n",
       "    </tr>\n",
       "    <tr>\n",
       "      <th>mean</th>\n",
       "      <td>1.284023e+00</td>\n",
       "      <td>4.980107e-01</td>\n",
       "      <td>2.483184e-01</td>\n",
       "      <td>2.783927e-01</td>\n",
       "      <td>2.591830e-01</td>\n",
       "      <td>2.889703e-01</td>\n",
       "      <td>6.244236e-01</td>\n",
       "      <td>5.703395e-01</td>\n",
       "      <td>1.136674e+00</td>\n",
       "      <td>3.723338e-02</td>\n",
       "    </tr>\n",
       "    <tr>\n",
       "      <th>std</th>\n",
       "      <td>1.403973e+00</td>\n",
       "      <td>6.507725e-01</td>\n",
       "      <td>1.090031e+00</td>\n",
       "      <td>9.603092e-01</td>\n",
       "      <td>1.133194e+00</td>\n",
       "      <td>1.174905e+00</td>\n",
       "      <td>1.075314e+00</td>\n",
       "      <td>1.234925e+00</td>\n",
       "      <td>1.326884e+00</td>\n",
       "      <td>2.447583e-01</td>\n",
       "    </tr>\n",
       "    <tr>\n",
       "      <th>min</th>\n",
       "      <td>3.608932e-02</td>\n",
       "      <td>0.000000e+00</td>\n",
       "      <td>0.000000e+00</td>\n",
       "      <td>0.000000e+00</td>\n",
       "      <td>0.000000e+00</td>\n",
       "      <td>0.000000e+00</td>\n",
       "      <td>0.000000e+00</td>\n",
       "      <td>0.000000e+00</td>\n",
       "      <td>0.000000e+00</td>\n",
       "      <td>0.000000e+00</td>\n",
       "    </tr>\n",
       "    <tr>\n",
       "      <th>25%</th>\n",
       "      <td>2.165359e-01</td>\n",
       "      <td>3.608932e-02</td>\n",
       "      <td>0.000000e+00</td>\n",
       "      <td>0.000000e+00</td>\n",
       "      <td>0.000000e+00</td>\n",
       "      <td>0.000000e+00</td>\n",
       "      <td>0.000000e+00</td>\n",
       "      <td>0.000000e+00</td>\n",
       "      <td>9.683475e-02</td>\n",
       "      <td>0.000000e+00</td>\n",
       "    </tr>\n",
       "    <tr>\n",
       "      <th>50%</th>\n",
       "      <td>8.300543e-01</td>\n",
       "      <td>2.887146e-01</td>\n",
       "      <td>0.000000e+00</td>\n",
       "      <td>0.000000e+00</td>\n",
       "      <td>7.153134e-02</td>\n",
       "      <td>0.000000e+00</td>\n",
       "      <td>2.966491e-01</td>\n",
       "      <td>1.203305e-01</td>\n",
       "      <td>7.930951e-01</td>\n",
       "      <td>0.000000e+00</td>\n",
       "    </tr>\n",
       "    <tr>\n",
       "      <th>75%</th>\n",
       "      <td>1.804466e+00</td>\n",
       "      <td>6.856971e-01</td>\n",
       "      <td>3.460409e-02</td>\n",
       "      <td>0.000000e+00</td>\n",
       "      <td>2.145940e-01</td>\n",
       "      <td>0.000000e+00</td>\n",
       "      <td>8.899474e-01</td>\n",
       "      <td>5.096351e-01</td>\n",
       "      <td>1.638430e+00</td>\n",
       "      <td>0.000000e+00</td>\n",
       "    </tr>\n",
       "    <tr>\n",
       "      <th>max</th>\n",
       "      <td>9.094508e+00</td>\n",
       "      <td>6.171274e+00</td>\n",
       "      <td>4.156133e+01</td>\n",
       "      <td>1.245537e+02</td>\n",
       "      <td>7.339115e+01</td>\n",
       "      <td>3.421584e+01</td>\n",
       "      <td>5.389126e+01</td>\n",
       "      <td>4.847196e+01</td>\n",
       "      <td>1.259234e+01</td>\n",
       "      <td>6.676385e+00</td>\n",
       "    </tr>\n",
       "  </tbody>\n",
       "</table>\n",
       "</div>"
      ],
      "text/plain": [
       "       play_char_cnt  combat_char_cnt  pledge_combat_cnt  random_attacker_cnt  \\\n",
       "count   1.083384e+06     1.083384e+06       1.083384e+06         1.083384e+06   \n",
       "mean    1.284023e+00     4.980107e-01       2.483184e-01         2.783927e-01   \n",
       "std     1.403973e+00     6.507725e-01       1.090031e+00         9.603092e-01   \n",
       "min     3.608932e-02     0.000000e+00       0.000000e+00         0.000000e+00   \n",
       "25%     2.165359e-01     3.608932e-02       0.000000e+00         0.000000e+00   \n",
       "50%     8.300543e-01     2.887146e-01       0.000000e+00         0.000000e+00   \n",
       "75%     1.804466e+00     6.856971e-01       3.460409e-02         0.000000e+00   \n",
       "max     9.094508e+00     6.171274e+00       4.156133e+01         1.245537e+02   \n",
       "\n",
       "       random_defender_cnt  same_pledge_cnt      temp_cnt       etc_cnt  \\\n",
       "count         1.083384e+06     1.083384e+06  1.083384e+06  1.083384e+06   \n",
       "mean          2.591830e-01     2.889703e-01  6.244236e-01  5.703395e-01   \n",
       "std           1.133194e+00     1.174905e+00  1.075314e+00  1.234925e+00   \n",
       "min           0.000000e+00     0.000000e+00  0.000000e+00  0.000000e+00   \n",
       "25%           0.000000e+00     0.000000e+00  0.000000e+00  0.000000e+00   \n",
       "50%           7.153134e-02     0.000000e+00  2.966491e-01  1.203305e-01   \n",
       "75%           2.145940e-01     0.000000e+00  8.899474e-01  5.096351e-01   \n",
       "max           7.339115e+01     3.421584e+01  5.389126e+01  4.847196e+01   \n",
       "\n",
       "       combat_play_time  non_combat_play_time  \n",
       "count      1.083384e+06          1.083384e+06  \n",
       "mean       1.136674e+00          3.723338e-02  \n",
       "std        1.326884e+00          2.447583e-01  \n",
       "min        0.000000e+00          0.000000e+00  \n",
       "25%        9.683475e-02          0.000000e+00  \n",
       "50%        7.930951e-01          0.000000e+00  \n",
       "75%        1.638430e+00          0.000000e+00  \n",
       "max        1.259234e+01          6.676385e+00  "
      ]
     },
     "execution_count": 16,
     "metadata": {},
     "output_type": "execute_result"
    }
   ],
   "source": [
    "act.describe()[cols]"
   ]
  },
  {
   "cell_type": "code",
   "execution_count": 17,
   "metadata": {},
   "outputs": [
    {
     "data": {
      "text/plain": [
       "play_char_cnt           1.284023\n",
       "combat_char_cnt         0.498011\n",
       "pledge_combat_cnt       0.248318\n",
       "random_attacker_cnt     0.278393\n",
       "random_defender_cnt     0.259183\n",
       "same_pledge_cnt         0.288970\n",
       "temp_cnt                0.624424\n",
       "etc_cnt                 0.570340\n",
       "combat_play_time        1.136674\n",
       "non_combat_play_time    0.037233\n",
       "Name: mean, dtype: float64"
      ]
     },
     "execution_count": 17,
     "metadata": {},
     "output_type": "execute_result"
    }
   ],
   "source": [
    "act.describe().loc['mean'][cols]"
   ]
  },
  {
   "cell_type": "code",
   "execution_count": 18,
   "metadata": {},
   "outputs": [
    {
     "data": {
      "text/html": [
       "<div>\n",
       "<style scoped>\n",
       "    .dataframe tbody tr th:only-of-type {\n",
       "        vertical-align: middle;\n",
       "    }\n",
       "\n",
       "    .dataframe tbody tr th {\n",
       "        vertical-align: top;\n",
       "    }\n",
       "\n",
       "    .dataframe thead th {\n",
       "        text-align: right;\n",
       "    }\n",
       "</style>\n",
       "<table border=\"1\" class=\"dataframe\">\n",
       "  <thead>\n",
       "    <tr style=\"text-align: right;\">\n",
       "      <th></th>\n",
       "      <th>play_char_cnt</th>\n",
       "      <th>combat_char_cnt</th>\n",
       "      <th>pledge_combat_cnt</th>\n",
       "      <th>random_attacker_cnt</th>\n",
       "      <th>random_defender_cnt</th>\n",
       "      <th>same_pledge_cnt</th>\n",
       "      <th>temp_cnt</th>\n",
       "      <th>etc_cnt</th>\n",
       "      <th>combat_play_time</th>\n",
       "      <th>non_combat_play_time</th>\n",
       "    </tr>\n",
       "  </thead>\n",
       "  <tbody>\n",
       "    <tr>\n",
       "      <th>mean</th>\n",
       "      <td>1.284023</td>\n",
       "      <td>0.498011</td>\n",
       "      <td>0.248318</td>\n",
       "      <td>0.278393</td>\n",
       "      <td>0.259183</td>\n",
       "      <td>0.28897</td>\n",
       "      <td>0.624424</td>\n",
       "      <td>0.57034</td>\n",
       "      <td>1.136674</td>\n",
       "      <td>0.037233</td>\n",
       "    </tr>\n",
       "  </tbody>\n",
       "</table>\n",
       "</div>"
      ],
      "text/plain": [
       "      play_char_cnt  combat_char_cnt  pledge_combat_cnt  random_attacker_cnt  \\\n",
       "mean       1.284023         0.498011           0.248318             0.278393   \n",
       "\n",
       "      random_defender_cnt  same_pledge_cnt  temp_cnt  etc_cnt  \\\n",
       "mean             0.259183          0.28897  0.624424  0.57034   \n",
       "\n",
       "      combat_play_time  non_combat_play_time  \n",
       "mean          1.136674              0.037233  "
      ]
     },
     "execution_count": 18,
     "metadata": {},
     "output_type": "execute_result"
    }
   ],
   "source": [
    "act_mean = act.describe()[1:2][cols]\n",
    "act_mean"
   ]
  },
  {
   "cell_type": "code",
   "execution_count": 19,
   "metadata": {},
   "outputs": [
    {
     "data": {
      "text/html": [
       "<div>\n",
       "<style scoped>\n",
       "    .dataframe tbody tr th:only-of-type {\n",
       "        vertical-align: middle;\n",
       "    }\n",
       "\n",
       "    .dataframe tbody tr th {\n",
       "        vertical-align: top;\n",
       "    }\n",
       "\n",
       "    .dataframe thead th {\n",
       "        text-align: right;\n",
       "    }\n",
       "</style>\n",
       "<table border=\"1\" class=\"dataframe\">\n",
       "  <thead>\n",
       "    <tr style=\"text-align: right;\">\n",
       "      <th></th>\n",
       "      <th>play_char_cnt</th>\n",
       "      <th>combat_char_cnt</th>\n",
       "      <th>pledge_combat_cnt</th>\n",
       "      <th>random_attacker_cnt</th>\n",
       "      <th>random_defender_cnt</th>\n",
       "      <th>same_pledge_cnt</th>\n",
       "      <th>temp_cnt</th>\n",
       "      <th>etc_cnt</th>\n",
       "      <th>combat_play_time</th>\n",
       "      <th>non_combat_play_time</th>\n",
       "    </tr>\n",
       "  </thead>\n",
       "  <tbody>\n",
       "    <tr>\n",
       "      <th>std</th>\n",
       "      <td>1.403973</td>\n",
       "      <td>0.650772</td>\n",
       "      <td>1.090031</td>\n",
       "      <td>0.960309</td>\n",
       "      <td>1.133194</td>\n",
       "      <td>1.174905</td>\n",
       "      <td>1.075314</td>\n",
       "      <td>1.234925</td>\n",
       "      <td>1.326884</td>\n",
       "      <td>0.244758</td>\n",
       "    </tr>\n",
       "  </tbody>\n",
       "</table>\n",
       "</div>"
      ],
      "text/plain": [
       "     play_char_cnt  combat_char_cnt  pledge_combat_cnt  random_attacker_cnt  \\\n",
       "std       1.403973         0.650772           1.090031             0.960309   \n",
       "\n",
       "     random_defender_cnt  same_pledge_cnt  temp_cnt   etc_cnt  \\\n",
       "std             1.133194         1.174905  1.075314  1.234925   \n",
       "\n",
       "     combat_play_time  non_combat_play_time  \n",
       "std          1.326884              0.244758  "
      ]
     },
     "execution_count": 19,
     "metadata": {},
     "output_type": "execute_result"
    }
   ],
   "source": [
    "act_std = act.describe()[2:3][cols]\n",
    "act_std "
   ]
  },
  {
   "cell_type": "code",
   "execution_count": 20,
   "metadata": {},
   "outputs": [
    {
     "data": {
      "text/plain": [
       "play_char_cnt           4.091969\n",
       "combat_char_cnt         1.799556\n",
       "pledge_combat_cnt       2.428381\n",
       "random_attacker_cnt     2.199011\n",
       "random_defender_cnt     2.525570\n",
       "same_pledge_cnt         2.638780\n",
       "temp_cnt                2.775051\n",
       "etc_cnt                 3.040190\n",
       "combat_play_time        3.790441\n",
       "non_combat_play_time    0.526750\n",
       "dtype: float64"
      ]
     },
     "execution_count": 20,
     "metadata": {},
     "output_type": "execute_result"
    }
   ],
   "source": [
    "act_std_mul = act_std*2\n",
    "upper = act_mean.iloc[0].add(act_std_mul.iloc[0]) #Upper limit\n",
    "upper\n"
   ]
  },
  {
   "cell_type": "code",
   "execution_count": 21,
   "metadata": {},
   "outputs": [
    {
     "data": {
      "text/plain": [
       "play_char_cnt          -1.523922\n",
       "combat_char_cnt        -0.803534\n",
       "pledge_combat_cnt      -1.931744\n",
       "random_attacker_cnt    -1.642226\n",
       "random_defender_cnt    -2.007204\n",
       "same_pledge_cnt        -2.060840\n",
       "temp_cnt               -1.526204\n",
       "etc_cnt                -1.899511\n",
       "combat_play_time       -1.517094\n",
       "non_combat_play_time   -0.452283\n",
       "dtype: float64"
      ]
     },
     "execution_count": 21,
     "metadata": {},
     "output_type": "execute_result"
    }
   ],
   "source": [
    "lower= act_mean.iloc[0].sub(act_std_mul.iloc[0]) #Lower limit\n",
    "lower"
   ]
  },
  {
   "cell_type": "code",
   "execution_count": 22,
   "metadata": {},
   "outputs": [
    {
     "data": {
      "text/html": [
       "<div>\n",
       "<style scoped>\n",
       "    .dataframe tbody tr th:only-of-type {\n",
       "        vertical-align: middle;\n",
       "    }\n",
       "\n",
       "    .dataframe tbody tr th {\n",
       "        vertical-align: top;\n",
       "    }\n",
       "\n",
       "    .dataframe thead th {\n",
       "        text-align: right;\n",
       "    }\n",
       "</style>\n",
       "<table border=\"1\" class=\"dataframe\">\n",
       "  <thead>\n",
       "    <tr style=\"text-align: right;\">\n",
       "      <th></th>\n",
       "      <th>play_char_cnt</th>\n",
       "      <th>combat_char_cnt</th>\n",
       "      <th>pledge_combat_cnt</th>\n",
       "      <th>random_attacker_cnt</th>\n",
       "      <th>random_defender_cnt</th>\n",
       "      <th>same_pledge_cnt</th>\n",
       "      <th>temp_cnt</th>\n",
       "      <th>etc_cnt</th>\n",
       "      <th>combat_play_time</th>\n",
       "      <th>non_combat_play_time</th>\n",
       "    </tr>\n",
       "  </thead>\n",
       "  <tbody>\n",
       "    <tr>\n",
       "      <th>upperLimit</th>\n",
       "      <td>4.091969</td>\n",
       "      <td>1.799556</td>\n",
       "      <td>2.428381</td>\n",
       "      <td>2.199011</td>\n",
       "      <td>2.525570</td>\n",
       "      <td>2.63878</td>\n",
       "      <td>2.775051</td>\n",
       "      <td>3.040190</td>\n",
       "      <td>3.790441</td>\n",
       "      <td>0.526750</td>\n",
       "    </tr>\n",
       "    <tr>\n",
       "      <th>lowerLimit</th>\n",
       "      <td>-1.523922</td>\n",
       "      <td>-0.803534</td>\n",
       "      <td>-1.931744</td>\n",
       "      <td>-1.642226</td>\n",
       "      <td>-2.007204</td>\n",
       "      <td>-2.06084</td>\n",
       "      <td>-1.526204</td>\n",
       "      <td>-1.899511</td>\n",
       "      <td>-1.517094</td>\n",
       "      <td>-0.452283</td>\n",
       "    </tr>\n",
       "  </tbody>\n",
       "</table>\n",
       "</div>"
      ],
      "text/plain": [
       "            play_char_cnt  combat_char_cnt  pledge_combat_cnt  \\\n",
       "upperLimit       4.091969         1.799556           2.428381   \n",
       "lowerLimit      -1.523922        -0.803534          -1.931744   \n",
       "\n",
       "            random_attacker_cnt  random_defender_cnt  same_pledge_cnt  \\\n",
       "upperLimit             2.199011             2.525570          2.63878   \n",
       "lowerLimit            -1.642226            -2.007204         -2.06084   \n",
       "\n",
       "            temp_cnt   etc_cnt  combat_play_time  non_combat_play_time  \n",
       "upperLimit  2.775051  3.040190          3.790441              0.526750  \n",
       "lowerLimit -1.526204 -1.899511         -1.517094             -0.452283  "
      ]
     },
     "execution_count": 22,
     "metadata": {},
     "output_type": "execute_result"
    }
   ],
   "source": [
    "scope = pd.DataFrame({'upperLimit':upper,'lowerLimit':lower}).T\n",
    "scope"
   ]
  },
  {
   "cell_type": "code",
   "execution_count": 12,
   "metadata": {},
   "outputs": [],
   "source": [
    "# 테스트 데이터가 유효범위에 70% 이상 포함되는지 확인하자"
   ]
  },
  {
   "cell_type": "code",
   "execution_count": 23,
   "metadata": {},
   "outputs": [],
   "source": [
    "test_act_raw = pd.read_csv('../BigconData/test1_pledge.csv')\n",
    "test_act = test_act_raw"
   ]
  },
  {
   "cell_type": "code",
   "execution_count": 23,
   "metadata": {
    "scrolled": true
   },
   "outputs": [
    {
     "data": {
      "text/plain": [
       "709928"
      ]
     },
     "execution_count": 23,
     "metadata": {},
     "output_type": "execute_result"
    }
   ],
   "source": [
    "test_act[(test_act['playtime']<=scope.iloc[0]['playtime']) & (test_act['playtime']>=scope.iloc[1][ 'playtime'])]['playtime'].count()"
   ]
  },
  {
   "cell_type": "code",
   "execution_count": 22,
   "metadata": {
    "scrolled": true
   },
   "outputs": [
    {
     "data": {
      "text/plain": [
       "709928"
      ]
     },
     "execution_count": 22,
     "metadata": {},
     "output_type": "execute_result"
    }
   ],
   "source": [
    "test_act['playtime'].count()"
   ]
  },
  {
   "cell_type": "code",
   "execution_count": 19,
   "metadata": {},
   "outputs": [],
   "source": [
    "# test1의 전체 row 수는 709928\n",
    "#709928 모두가 범위에 포함되므로 낙찰!\n",
    "\n"
   ]
  },
  {
   "cell_type": "code",
   "execution_count": 24,
   "metadata": {},
   "outputs": [
    {
     "name": "stdout",
     "output_type": "stream",
     "text": [
      "playtime\n",
      "1.0\n",
      "npc_kill\n",
      "0.9595325159734508\n",
      "solo_exp\n",
      "0.9972236621178485\n",
      "party_exp\n",
      "0.9985181595880146\n",
      "quest_exp\n",
      "0.9925034651401269\n",
      "rich_monster\n",
      "0.9197439740368037\n",
      "death\n",
      "0.9925936151271678\n",
      "revive\n",
      "0.9932486111267621\n",
      "exp_recovery\n",
      "0.9965334512795664\n",
      "fishing\n",
      "0.9446464993633157\n",
      "private_shop\n",
      "0.9355258561431582\n",
      "game_money_change\n",
      "0.9796331458964853\n",
      "enchant_count\n",
      "0.9997196898840446\n"
     ]
    }
   ],
   "source": [
    "cols = ['playtime','npc_kill','solo_exp','party_exp','quest_exp','rich_monster','death','revive','exp_recovery','fishing','private_shop','game_money_change','enchant_count']\n",
    "for col in cols:\n",
    "    print(col)\n",
    "    print(test_act[(test_act[col]<=scope.iloc[0][col]) & (test_act[col]>=scope.iloc[1][col])][col].count()/test_act[col].count())"
   ]
  },
  {
   "cell_type": "code",
   "execution_count": 25,
   "metadata": {},
   "outputs": [],
   "source": [
    "# activity 끝\n",
    "# 아니.. test2 activitu도 해야한다"
   ]
  },
  {
   "cell_type": "code",
   "execution_count": 24,
   "metadata": {},
   "outputs": [],
   "source": [
    "test_act_raw = pd.read_csv('../BigconData/test1_pledge.csv')\n",
    "test_act = test_act_raw"
   ]
  },
  {
   "cell_type": "code",
   "execution_count": 25,
   "metadata": {},
   "outputs": [
    {
     "name": "stdout",
     "output_type": "stream",
     "text": [
      "play_char_cnt\n",
      "0.9975256727756603\n",
      "combat_char_cnt\n",
      "0.9885828714806609\n",
      "pledge_combat_cnt\n",
      "0.9817686873672332\n",
      "random_attacker_cnt\n",
      "0.9682903442532772\n",
      "random_defender_cnt\n",
      "0.9846148159583235\n",
      "same_pledge_cnt\n",
      "0.9896113045009708\n",
      "temp_cnt\n",
      "0.9897287154588921\n",
      "etc_cnt\n",
      "0.991183306770916\n",
      "combat_play_time\n",
      "0.96584210835292\n",
      "non_combat_play_time\n",
      "0.9311362989022075\n"
     ]
    }
   ],
   "source": [
    "for col in cols:\n",
    "    print(col)\n",
    "    print(test_act[(test_act[col]<=scope.iloc[0][col]) & (test_act[col]>=scope.iloc[1][col])][col].count()/test_act[col].count())"
   ]
  },
  {
   "cell_type": "code",
   "execution_count": 26,
   "metadata": {},
   "outputs": [],
   "source": [
    "# test 1 pledge 이상무"
   ]
  },
  {
   "cell_type": "code",
   "execution_count": 27,
   "metadata": {},
   "outputs": [],
   "source": [
    "test_act_raw = pd.read_csv('../BigconData/test2_pledge.csv')\n",
    "test_act = test_act_raw"
   ]
  },
  {
   "cell_type": "code",
   "execution_count": 28,
   "metadata": {},
   "outputs": [
    {
     "name": "stdout",
     "output_type": "stream",
     "text": [
      "play_char_cnt\n",
      "0.9805182389072339\n",
      "combat_char_cnt\n",
      "0.9851158314015568\n",
      "pledge_combat_cnt\n",
      "0.9808684293635772\n",
      "random_attacker_cnt\n",
      "0.9594036879566709\n",
      "random_defender_cnt\n",
      "0.9894298340784727\n",
      "same_pledge_cnt\n",
      "0.989307374839138\n",
      "temp_cnt\n",
      "0.977772573856886\n",
      "etc_cnt\n",
      "0.991937025873274\n",
      "combat_play_time\n",
      "0.9839664332779761\n",
      "non_combat_play_time\n",
      "0.9484639959094318\n"
     ]
    }
   ],
   "source": [
    "for col in cols:\n",
    "    print(col)\n",
    "    print(test_act[(test_act[col]<=scope.iloc[0][col]) & (test_act[col]>=scope.iloc[1][col])][col].count()/test_act[col].count())"
   ]
  },
  {
   "cell_type": "markdown",
   "metadata": {},
   "source": [
    "#test2 pledge 이상무"
   ]
  },
  {
   "cell_type": "code",
   "execution_count": null,
   "metadata": {},
   "outputs": [],
   "source": []
  }
 ],
 "metadata": {
  "kernelspec": {
   "display_name": "Python 3",
   "language": "python",
   "name": "python3"
  },
  "language_info": {
   "codemirror_mode": {
    "name": "ipython",
    "version": 3
   },
   "file_extension": ".py",
   "mimetype": "text/x-python",
   "name": "python",
   "nbconvert_exporter": "python",
   "pygments_lexer": "ipython3",
   "version": "3.7.4"
  }
 },
 "nbformat": 4,
 "nbformat_minor": 2
}
